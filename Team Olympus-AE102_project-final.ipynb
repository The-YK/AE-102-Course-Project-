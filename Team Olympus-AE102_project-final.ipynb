{
 "cells": [
  {
   "cell_type": "markdown",
   "id": "d3765582-9240-41d5-bc28-a0c089fc6682",
   "metadata": {},
   "source": [
    "# AE102 Data Analysis Project."
   ]
  },
  {
   "cell_type": "markdown",
   "id": "be0b8ff8-1ecd-424f-b5ac-1ba71b623d2e",
   "metadata": {
    "tags": []
   },
   "source": [
    "## Topic- Olympics Data Set Analysis."
   ]
  },
  {
   "cell_type": "markdown",
   "id": "21aebc62-4349-4017-b951-3ba56c085ff2",
   "metadata": {},
   "source": [
    "### Team Members - \n",
    "### Amit Kumar (210010008)\n",
    "### Lagnesh Mahapatra (210010038)\n",
    "### Mayank Bajaj (210010039)\n",
    "### Yash Dnyaneshwar Kotkar(210010077)"
   ]
  },
  {
   "cell_type": "markdown",
   "id": "a5578bfa-b3df-40da-9224-86a1999bc373",
   "metadata": {},
   "source": [
    "So, let's start with the project.\n",
    "So, we all know what Olympics are, but still I will give brief introduction of Olympics.\n",
    "We won't delve into the History of Olympics, because that is not relevant here, rather I shall talk about the Games in general.\n",
    "\n",
    "\n",
    " Olympics is one of the biggest sporting events featuring summer and winter sports competitions (NOTE: in our project we have considered the data of Summer Olympics only.) where thousands of athletes from around the world participate in a variety of competitions. More than 200 nations participate.The Olympic Games are usually held every four years, alternating between the Summer and Winter Olympics every two years in the four-year period. The International Olympic Committee (IOC) as formed in 1894 and the first modern Olympics was held in 1896. "
   ]
  },
  {
   "cell_type": "markdown",
   "id": "a1eaa2cd-0d07-4a93-8900-5c950ae642e1",
   "metadata": {},
   "source": [
    "Now, that we know about Olympics in brief, let's start with what data sets are we going to analyze in this Project . In the First half of our project we try to explore the relationship between top performing nations in Olympics and their economies, in particular their GDP per Capita and Total GDP. In the second half of the project we have worked upon the Data sets involving \"Sprint Time\" and \"Reaction Time\" of different atheletes across different types of Running Events ( 200m , 400m )."
   ]
  },
  {
   "cell_type": "code",
   "execution_count": 67,
   "id": "a0738cde-5a42-4e3e-b220-ddc671551b35",
   "metadata": {},
   "outputs": [],
   "source": [
    "import pandas as pd\n",
    "import seaborn as sns\n",
    "import numpy as np\n",
    "import scipy.stats as stats\n",
    "import matplotlib.pyplot as plt"
   ]
  },
  {
   "cell_type": "markdown",
   "id": "fd38b545-f0e9-424e-bd5f-6741718815d6",
   "metadata": {},
   "source": [
    "## Part1: Effect of Economy\n",
    "Is there a relatioship between the Economy size and the performance of a nation at the Olympics.In studies and data analysis done on similar datasets it has been observed that the size of the economy is strongly linked to a country's performance at the Olympics. In general, the bigger the size of a country's economy, the more the medals, with very few exceptions such as Kenya, Ethiopia and Ukraine.(These exceptions arise due to the fact that we have considered only the \"Economy\" factor but there are a lot of other factors such as \"HDI\", \"Population\", \"Political Freedom\", etc.) We will prove the same in our data analysis project."
   ]
  },
  {
   "cell_type": "markdown",
   "id": "e98aec5d-51c8-4d36-83c9-8791c20e9647",
   "metadata": {},
   "source": [
    "### Reading CSV file and extracting data for 2004 Olympics"
   ]
  },
  {
   "cell_type": "code",
   "execution_count": 327,
   "id": "d9c1f4d4-d4fa-4fcd-a85b-84e2df5d9f8c",
   "metadata": {
    "tags": []
   },
   "outputs": [],
   "source": [
    "data_2004=pd.read_csv('2004-economy.csv',header=None,sep=',')"
   ]
  },
  {
   "cell_type": "code",
   "execution_count": 331,
   "id": "ba433626-66ec-483d-a999-44d18c1ea794",
   "metadata": {},
   "outputs": [],
   "source": [
    "data_2004.columns=['Country','Gold','Silver','Bronze','Total','Total GDP-2002(in billion$)','Per capita GDP-2002(in $)','Total GDP-2003(in billion$)','Per capita GDP-2003(in $)']"
   ]
  },
  {
   "cell_type": "code",
   "execution_count": 332,
   "id": "40849029-7f3c-4a1d-8175-8a73fa03ba64",
   "metadata": {},
   "outputs": [
    {
     "data": {
      "text/html": [
       "<div>\n",
       "<style scoped>\n",
       "    .dataframe tbody tr th:only-of-type {\n",
       "        vertical-align: middle;\n",
       "    }\n",
       "\n",
       "    .dataframe tbody tr th {\n",
       "        vertical-align: top;\n",
       "    }\n",
       "\n",
       "    .dataframe thead th {\n",
       "        text-align: right;\n",
       "    }\n",
       "</style>\n",
       "<table border=\"1\" class=\"dataframe\">\n",
       "  <thead>\n",
       "    <tr style=\"text-align: right;\">\n",
       "      <th></th>\n",
       "      <th>Country</th>\n",
       "      <th>Gold</th>\n",
       "      <th>Silver</th>\n",
       "      <th>Bronze</th>\n",
       "      <th>Total</th>\n",
       "      <th>Total GDP-2002(in billion$)</th>\n",
       "      <th>Per capita GDP-2002(in $)</th>\n",
       "      <th>Total GDP-2003(in billion$)</th>\n",
       "      <th>Per capita GDP-2003(in $)</th>\n",
       "    </tr>\n",
       "  </thead>\n",
       "  <tbody>\n",
       "    <tr>\n",
       "      <th>0</th>\n",
       "      <td>United States</td>\n",
       "      <td>36</td>\n",
       "      <td>39</td>\n",
       "      <td>26</td>\n",
       "      <td>101</td>\n",
       "      <td>10940.0</td>\n",
       "      <td>38023.16</td>\n",
       "      <td>11460.0</td>\n",
       "      <td>39496.49</td>\n",
       "    </tr>\n",
       "    <tr>\n",
       "      <th>1</th>\n",
       "      <td>China</td>\n",
       "      <td>32</td>\n",
       "      <td>17</td>\n",
       "      <td>14</td>\n",
       "      <td>63</td>\n",
       "      <td>1470.0</td>\n",
       "      <td>1148.51</td>\n",
       "      <td>1660.0</td>\n",
       "      <td>1288.64</td>\n",
       "    </tr>\n",
       "    <tr>\n",
       "      <th>2</th>\n",
       "      <td>Russia</td>\n",
       "      <td>28</td>\n",
       "      <td>26</td>\n",
       "      <td>36</td>\n",
       "      <td>90</td>\n",
       "      <td>345.5</td>\n",
       "      <td>2377.53</td>\n",
       "      <td>430.3</td>\n",
       "      <td>2975.13</td>\n",
       "    </tr>\n",
       "    <tr>\n",
       "      <th>3</th>\n",
       "      <td>Australia</td>\n",
       "      <td>17</td>\n",
       "      <td>16</td>\n",
       "      <td>17</td>\n",
       "      <td>50</td>\n",
       "      <td>394.6</td>\n",
       "      <td>20082.48</td>\n",
       "      <td>466.5</td>\n",
       "      <td>23447.03</td>\n",
       "    </tr>\n",
       "    <tr>\n",
       "      <th>4</th>\n",
       "      <td>Japan</td>\n",
       "      <td>16</td>\n",
       "      <td>9</td>\n",
       "      <td>12</td>\n",
       "      <td>37</td>\n",
       "      <td>4120.0</td>\n",
       "      <td>32289.35</td>\n",
       "      <td>4450.0</td>\n",
       "      <td>34808.39</td>\n",
       "    </tr>\n",
       "    <tr>\n",
       "      <th>5</th>\n",
       "      <td>Germany</td>\n",
       "      <td>13</td>\n",
       "      <td>16</td>\n",
       "      <td>20</td>\n",
       "      <td>49</td>\n",
       "      <td>2070.0</td>\n",
       "      <td>25077.73</td>\n",
       "      <td>2500.0</td>\n",
       "      <td>30243.58</td>\n",
       "    </tr>\n",
       "    <tr>\n",
       "      <th>6</th>\n",
       "      <td>France</td>\n",
       "      <td>11</td>\n",
       "      <td>9</td>\n",
       "      <td>13</td>\n",
       "      <td>33</td>\n",
       "      <td>1490.0</td>\n",
       "      <td>24177.34</td>\n",
       "      <td>1840.0</td>\n",
       "      <td>29568.39</td>\n",
       "    </tr>\n",
       "    <tr>\n",
       "      <th>7</th>\n",
       "      <td>Italy</td>\n",
       "      <td>10</td>\n",
       "      <td>11</td>\n",
       "      <td>11</td>\n",
       "      <td>32</td>\n",
       "      <td>1270.0</td>\n",
       "      <td>22270.14</td>\n",
       "      <td>1570.0</td>\n",
       "      <td>27465.68</td>\n",
       "    </tr>\n",
       "    <tr>\n",
       "      <th>8</th>\n",
       "      <td>South Korea</td>\n",
       "      <td>9</td>\n",
       "      <td>12</td>\n",
       "      <td>9</td>\n",
       "      <td>30</td>\n",
       "      <td>627.2</td>\n",
       "      <td>13165.07</td>\n",
       "      <td>702.7</td>\n",
       "      <td>14672.86</td>\n",
       "    </tr>\n",
       "    <tr>\n",
       "      <th>9</th>\n",
       "      <td>Great Britain</td>\n",
       "      <td>9</td>\n",
       "      <td>9</td>\n",
       "      <td>12</td>\n",
       "      <td>30</td>\n",
       "      <td>1780.0</td>\n",
       "      <td>29982.62</td>\n",
       "      <td>2050.0</td>\n",
       "      <td>34383.95</td>\n",
       "    </tr>\n",
       "    <tr>\n",
       "      <th>10</th>\n",
       "      <td>Cuba</td>\n",
       "      <td>9</td>\n",
       "      <td>7</td>\n",
       "      <td>11</td>\n",
       "      <td>27</td>\n",
       "      <td>33.6</td>\n",
       "      <td>2999.24</td>\n",
       "      <td>35.9</td>\n",
       "      <td>3197.13</td>\n",
       "    </tr>\n",
       "    <tr>\n",
       "      <th>11</th>\n",
       "      <td>Hungary</td>\n",
       "      <td>8</td>\n",
       "      <td>6</td>\n",
       "      <td>3</td>\n",
       "      <td>17</td>\n",
       "      <td>67.6</td>\n",
       "      <td>6655.33</td>\n",
       "      <td>47.2</td>\n",
       "      <td>8530.20</td>\n",
       "    </tr>\n",
       "    <tr>\n",
       "      <th>12</th>\n",
       "      <td>Ukraine</td>\n",
       "      <td>8</td>\n",
       "      <td>5</td>\n",
       "      <td>9</td>\n",
       "      <td>22</td>\n",
       "      <td>42.4</td>\n",
       "      <td>878.62</td>\n",
       "      <td>50.1</td>\n",
       "      <td>1047.50</td>\n",
       "    </tr>\n",
       "    <tr>\n",
       "      <th>13</th>\n",
       "      <td>Romania</td>\n",
       "      <td>8</td>\n",
       "      <td>5</td>\n",
       "      <td>6</td>\n",
       "      <td>19</td>\n",
       "      <td>46.1</td>\n",
       "      <td>2119.88</td>\n",
       "      <td>57.8</td>\n",
       "      <td>2679.41</td>\n",
       "    </tr>\n",
       "    <tr>\n",
       "      <th>14</th>\n",
       "      <td>Greece*</td>\n",
       "      <td>6</td>\n",
       "      <td>6</td>\n",
       "      <td>4</td>\n",
       "      <td>16</td>\n",
       "      <td>158.8</td>\n",
       "      <td>14110.31</td>\n",
       "      <td>201.9</td>\n",
       "      <td>18477.58</td>\n",
       "    </tr>\n",
       "    <tr>\n",
       "      <th>15</th>\n",
       "      <td>Brazil</td>\n",
       "      <td>5</td>\n",
       "      <td>2</td>\n",
       "      <td>3</td>\n",
       "      <td>10</td>\n",
       "      <td>508.0</td>\n",
       "      <td>2829.28</td>\n",
       "      <td>558.3</td>\n",
       "      <td>3070.91</td>\n",
       "    </tr>\n",
       "    <tr>\n",
       "      <th>16</th>\n",
       "      <td>Norway</td>\n",
       "      <td>5</td>\n",
       "      <td>0</td>\n",
       "      <td>1</td>\n",
       "      <td>6</td>\n",
       "      <td>195.5</td>\n",
       "      <td>43084.47</td>\n",
       "      <td>228.9</td>\n",
       "      <td>50134.89</td>\n",
       "    </tr>\n",
       "    <tr>\n",
       "      <th>17</th>\n",
       "      <td>Netherlands</td>\n",
       "      <td>4</td>\n",
       "      <td>9</td>\n",
       "      <td>9</td>\n",
       "      <td>22</td>\n",
       "      <td>471.6</td>\n",
       "      <td>29204.04</td>\n",
       "      <td>578.8</td>\n",
       "      <td>35672.21</td>\n",
       "    </tr>\n",
       "    <tr>\n",
       "      <th>18</th>\n",
       "      <td>Sweden</td>\n",
       "      <td>4</td>\n",
       "      <td>2</td>\n",
       "      <td>1</td>\n",
       "      <td>7</td>\n",
       "      <td>266.8</td>\n",
       "      <td>29899.20</td>\n",
       "      <td>334.3</td>\n",
       "      <td>37321.80</td>\n",
       "    </tr>\n",
       "    <tr>\n",
       "      <th>19</th>\n",
       "      <td>Spain</td>\n",
       "      <td>3</td>\n",
       "      <td>11</td>\n",
       "      <td>6</td>\n",
       "      <td>20</td>\n",
       "      <td>705.4</td>\n",
       "      <td>17025.53</td>\n",
       "      <td>905.5</td>\n",
       "      <td>21463.44</td>\n",
       "    </tr>\n",
       "  </tbody>\n",
       "</table>\n",
       "</div>"
      ],
      "text/plain": [
       "          Country  Gold  Silver  Bronze  Total  Total GDP-2002(in billion$)  \\\n",
       "0   United States    36      39      26    101                      10940.0   \n",
       "1           China    32      17      14     63                       1470.0   \n",
       "2          Russia    28      26      36     90                        345.5   \n",
       "3       Australia    17      16      17     50                        394.6   \n",
       "4           Japan    16       9      12     37                       4120.0   \n",
       "5         Germany    13      16      20     49                       2070.0   \n",
       "6          France    11       9      13     33                       1490.0   \n",
       "7           Italy    10      11      11     32                       1270.0   \n",
       "8     South Korea     9      12       9     30                        627.2   \n",
       "9   Great Britain     9       9      12     30                       1780.0   \n",
       "10           Cuba     9       7      11     27                         33.6   \n",
       "11        Hungary     8       6       3     17                         67.6   \n",
       "12        Ukraine     8       5       9     22                         42.4   \n",
       "13        Romania     8       5       6     19                         46.1   \n",
       "14        Greece*     6       6       4     16                        158.8   \n",
       "15         Brazil     5       2       3     10                        508.0   \n",
       "16         Norway     5       0       1      6                        195.5   \n",
       "17    Netherlands     4       9       9     22                        471.6   \n",
       "18         Sweden     4       2       1      7                        266.8   \n",
       "19          Spain     3      11       6     20                        705.4   \n",
       "\n",
       "    Per capita GDP-2002(in $)  Total GDP-2003(in billion$)  \\\n",
       "0                    38023.16                      11460.0   \n",
       "1                     1148.51                       1660.0   \n",
       "2                     2377.53                        430.3   \n",
       "3                    20082.48                        466.5   \n",
       "4                    32289.35                       4450.0   \n",
       "5                    25077.73                       2500.0   \n",
       "6                    24177.34                       1840.0   \n",
       "7                    22270.14                       1570.0   \n",
       "8                    13165.07                        702.7   \n",
       "9                    29982.62                       2050.0   \n",
       "10                    2999.24                         35.9   \n",
       "11                    6655.33                         47.2   \n",
       "12                     878.62                         50.1   \n",
       "13                    2119.88                         57.8   \n",
       "14                   14110.31                        201.9   \n",
       "15                    2829.28                        558.3   \n",
       "16                   43084.47                        228.9   \n",
       "17                   29204.04                        578.8   \n",
       "18                   29899.20                        334.3   \n",
       "19                   17025.53                        905.5   \n",
       "\n",
       "    Per capita GDP-2003(in $)  \n",
       "0                    39496.49  \n",
       "1                     1288.64  \n",
       "2                     2975.13  \n",
       "3                    23447.03  \n",
       "4                    34808.39  \n",
       "5                    30243.58  \n",
       "6                    29568.39  \n",
       "7                    27465.68  \n",
       "8                    14672.86  \n",
       "9                    34383.95  \n",
       "10                    3197.13  \n",
       "11                    8530.20  \n",
       "12                    1047.50  \n",
       "13                    2679.41  \n",
       "14                   18477.58  \n",
       "15                    3070.91  \n",
       "16                   50134.89  \n",
       "17                   35672.21  \n",
       "18                   37321.80  \n",
       "19                   21463.44  "
      ]
     },
     "execution_count": 332,
     "metadata": {},
     "output_type": "execute_result"
    }
   ],
   "source": [
    "data_2004"
   ]
  },
  {
   "cell_type": "markdown",
   "id": "bd58dcec-09c7-453e-a8d8-1d9f05b634e3",
   "metadata": {},
   "source": [
    "### Creating function for collecting samples from a given dataset"
   ]
  },
  {
   "cell_type": "code",
   "execution_count": 333,
   "id": "8ddefb37-3c58-4d24-aba3-7826547fca17",
   "metadata": {},
   "outputs": [],
   "source": [
    "def collect_samples(data, n_samples, n_people):#collecting sample averages from a given population dataset\n",
    "    avgs = np.zeros(n_people)\n",
    "    for i in range(n_people):\n",
    "        sample = np.random.choice(data, n_samples, replace=False)\n",
    "        avgs[i] = np.mean(sample)\n",
    "    return avgs"
   ]
  },
  {
   "cell_type": "code",
   "execution_count": 388,
   "id": "ceb89995-799e-44db-a54b-8f6e8735177d",
   "metadata": {},
   "outputs": [],
   "source": [
    "#taking out my 3 random variables\n",
    "GDP_per_capita_2004=data_2004['Per capita GDP-2003(in $)']#random variable 1 is per capita GDP in 2003\n",
    "Total_medals_2004=data_2004['Total']#random variable 2 is Total number of medals earned in Athens 2004 Olympics\n",
    "GDP_total_2004=data_2004['Total GDP-2003(in billion$)']#random variable 3 is Total GDP in 2003"
   ]
  },
  {
   "cell_type": "markdown",
   "id": "f72896b0-d3ab-4422-b48a-8588b28cd6ca",
   "metadata": {},
   "source": [
    "### Showing distribution of per capita GDP in 2003"
   ]
  },
  {
   "cell_type": "code",
   "execution_count": 389,
   "id": "14c6d9c6-27b2-4913-a8ed-d8d5759cefb8",
   "metadata": {},
   "outputs": [
    {
     "data": {
      "image/png": "[encoded data removed]",
      "text/plain": [
       "<Figure size 432x288 with 1 Axes>"
      ]
     },
     "metadata": {
      "needs_background": "light"
     },
     "output_type": "display_data"
    }
   ],
   "source": [
    "#seeing if my distribution is a normal distribution or not\n",
    "xs = np.linspace(12000, 30000, 30)\n",
    "mean_xbar = np.mean(GDP_per_capita_2004)\n",
    "std_xbar = np.std(GDP_per_capita_2004, ddof=1)/np.sqrt(30) # 30 is the sample size \n",
    "ys = stats.norm.pdf(xs,mean_xbar,std_xbar)\n",
    "\n",
    "#ploting my sample averages along with normal distribution with the same avg and standard deviation\n",
    "avgs=collect_samples(GDP_per_capita_2004,12,2000)\n",
    "plt.hist(avgs, bins=20,density=True)\n",
    "plt.plot(xs,ys,'k-');\n",
    "plt.xlabel('GDP per capita in year 2003(in $)')\n",
    "plt.ylabel('Distribution');"
   ]
  },
  {
   "cell_type": "markdown",
   "id": "4f2ae2f2-bf6b-4e86-a922-ad4b294dd895",
   "metadata": {},
   "source": [
    "So looks like the distribution we get is fairly close to a normal distribution!"
   ]
  },
  {
   "cell_type": "markdown",
   "id": "59f58c94-a6d0-47ec-bddb-2b826533390b",
   "metadata": {
    "tags": []
   },
   "source": [
    "### Calculating the 95% Confidence Interval of this dataset"
   ]
  },
  {
   "cell_type": "code",
   "execution_count": 390,
   "id": "2e683eb0-a942-40f8-b38a-9256e3b54ba3",
   "metadata": {},
   "outputs": [],
   "source": [
    "# function to calculate the 95% CI of data, this function wil be used later too\n",
    "def compute_CI_95_mean(dataset, n_samples):\n",
    "    sample = np.random.choice(dataset, n_samples, replace=False)\n",
    "    sample_mean = np.mean(sample)\n",
    "    sample_std = np.std(sample, ddof=1)\n",
    "    z95 = stats.norm.ppf(1 - 0.025)\n",
    "    ci_lo = sample_mean - z95*sample_std/np.sqrt(n_samples)\n",
    "    ci_hi = sample_mean + z95*sample_std/np.sqrt(n_samples)\n",
    "    return ci_lo, ci_hi"
   ]
  },
  {
   "cell_type": "code",
   "execution_count": 391,
   "id": "0b872453-de27-4875-a54f-5d19a800c68a",
   "metadata": {},
   "outputs": [
    {
     "data": {
      "text/plain": [
       "(3085.413432927111, 20013.62656707289)"
      ]
     },
     "execution_count": 391,
     "metadata": {},
     "output_type": "execute_result"
    }
   ],
   "source": [
    "compute_CI_95_mean(GDP_per_capita_2004,10)"
   ]
  },
  {
   "cell_type": "markdown",
   "id": "017da270-7544-4d8b-b07c-8d613493259a",
   "metadata": {},
   "source": [
    "### Showing distribution of Total GDP in 2003"
   ]
  },
  {
   "cell_type": "code",
   "execution_count": 393,
   "id": "862b5a3e-0195-458b-b9b1-e9a324473e19",
   "metadata": {},
   "outputs": [
    {
     "data": {
      "image/png": "[encoded data removed]",
      "text/plain": [
       "<Figure size 432x288 with 1 Axes>"
      ]
     },
     "metadata": {
      "needs_background": "light"
     },
     "output_type": "display_data"
    }
   ],
   "source": [
    "# using methods as previous rv to do the same for this one\n",
    "xs = np.linspace(0, 3000, 50)\n",
    "mean_xbar = np.mean(GDP_total_2004)\n",
    "std_xbar = np.std(GDP_total_2004, ddof=1)/np.sqrt(50) # 50 is the sample size \n",
    "ys = stats.norm.pdf(xs,mean_xbar,std_xbar)\n",
    "\n",
    "avgs=collect_samples(GDP_total_2004,12,10000)\n",
    "plt.hist(avgs, bins=20,density=True)\n",
    "plt.plot(xs,ys,'k-');\n",
    "plt.xlabel('Total GDP in year 2003(in billion$)')\n",
    "plt.ylabel('Distribution');"
   ]
  },
  {
   "cell_type": "markdown",
   "id": "9ddac10d-da80-494f-88a6-c7fd6987434c",
   "metadata": {},
   "source": [
    "The distribution has two individual peaks and is not close to a normal distribution."
   ]
  },
  {
   "cell_type": "markdown",
   "id": "a934b279-eab6-4e3c-8a3a-a04098c1f07a",
   "metadata": {
    "tags": []
   },
   "source": [
    "### Calculating the 95% Confidence Interval of this dataset"
   ]
  },
  {
   "cell_type": "code",
   "execution_count": 396,
   "id": "00504e3f-ac22-4056-8814-d232d6c5896d",
   "metadata": {},
   "outputs": [
    {
     "data": {
      "text/plain": [
       "(126.44394022196366, 3786.93939311137)"
      ]
     },
     "execution_count": 396,
     "metadata": {},
     "output_type": "execute_result"
    }
   ],
   "source": [
    "compute_CI_95_mean(GDP_total_2004,12)"
   ]
  },
  {
   "cell_type": "markdown",
   "id": "b95013b1-c31b-44b5-924f-2c52a57049c0",
   "metadata": {},
   "source": [
    "### Showing distribution of Total Medals won in Athens 2004 Olympics"
   ]
  },
  {
   "cell_type": "code",
   "execution_count": 398,
   "id": "b74b7265-f950-4112-bd87-c07c5c643be7",
   "metadata": {},
   "outputs": [
    {
     "data": {
      "image/png": "[encoded data removed]",
      "text/plain": [
       "<Figure size 432x288 with 1 Axes>"
      ]
     },
     "metadata": {
      "needs_background": "light"
     },
     "output_type": "display_data"
    }
   ],
   "source": [
    "xs = np.linspace(15, 50, 50)\n",
    "mean_xbar = np.mean(Total_medals_2004)\n",
    "std_xbar = np.std(Total_medals_2004, ddof=1)/np.sqrt(50) # 50 is the sample size \n",
    "ys = stats.norm.pdf(xs,mean_xbar,std_xbar)\n",
    "\n",
    "avgs=collect_samples(Total_medals_2004,12,1000)\n",
    "plt.hist(avgs, bins=20,density=True)\n",
    "plt.plot(xs,ys,'k-');\n",
    "plt.xlabel('Total medals in Athens 2004 Olympics')\n",
    "plt.ylabel('Distribution');"
   ]
  },
  {
   "cell_type": "markdown",
   "id": "719e31da-8553-4e90-b330-aefbf370aeab",
   "metadata": {},
   "source": [
    "So looks like the distribution we get is fairly close to a normal distribution!"
   ]
  },
  {
   "cell_type": "markdown",
   "id": "89856fca-c8e2-4810-8ca8-23d9da0cd39a",
   "metadata": {
    "tags": []
   },
   "source": [
    "### Calculating the 95% Confidence Interval of this dataset"
   ]
  },
  {
   "cell_type": "code",
   "execution_count": 399,
   "id": "5115428d-6049-4cfd-b1d1-cdbf990145d3",
   "metadata": {},
   "outputs": [
    {
     "data": {
      "text/plain": [
       "(15.514936898586178, 44.651729768080486)"
      ]
     },
     "execution_count": 399,
     "metadata": {},
     "output_type": "execute_result"
    }
   ],
   "source": [
    "compute_CI_95_mean(Total_medals_2004,12)"
   ]
  },
  {
   "cell_type": "markdown",
   "id": "99f119e1-be9d-4b32-b668-2b03bfbdf38d",
   "metadata": {},
   "source": [
    "### Analysing relations between pairs of Random Variables"
   ]
  },
  {
   "cell_type": "code",
   "execution_count": 400,
   "id": "e4334a32-554d-46af-9335-dc14514ed5bf",
   "metadata": {},
   "outputs": [
    {
     "data": {
      "image/png": "[encoded data removed]",
      "text/plain": [
       "<Figure size 432x288 with 1 Axes>"
      ]
     },
     "metadata": {
      "needs_background": "light"
     },
     "output_type": "display_data"
    }
   ],
   "source": [
    "#we plot the two rv, and find the best possible linear fit for the same\n",
    "plt.plot(GDP_per_capita_2004,Total_medals_2004,'bo')\n",
    "c1,c0=np.polyfit(GDP_per_capita_2004,Total_medals_2004,deg=1)\n",
    "plt.plot(GDP_per_capita_2004,c0 + c1*GDP_per_capita_2004,'r-',lw=3)\n",
    "plt.xlabel(\"GDP per capita in year 2003(in $)\")\n",
    "plt.ylabel(\"Total Medals won in Athens 2004 Olympics \");"
   ]
  },
  {
   "cell_type": "markdown",
   "id": "2fad1e66-f1b2-4127-87e8-94dacf961a35",
   "metadata": {},
   "source": [
    "Function to find the correlation coefficient to check if the linear relation we have is a goodfit or not. The closer the value of R2 to 1 the better the fit."
   ]
  },
  {
   "cell_type": "code",
   "execution_count": 360,
   "id": "382062b7-c5da-4629-a9b0-725e75d4c965",
   "metadata": {},
   "outputs": [],
   "source": [
    "def compute_R2(x,y):\n",
    "    b1,b0=np.polyfit(x,y,deg=1)\n",
    "    y_bar=np.mean(y)\n",
    "    y_hat=b0+b1*x\n",
    "    sst=np.sum((y-y_bar)**2)\n",
    "    ssr=np.sum((y_hat-y_bar)**2)\n",
    "    r2=ssr/sst\n",
    "    return r2"
   ]
  },
  {
   "cell_type": "code",
   "execution_count": 437,
   "id": "345d8d97-2904-43d0-8c22-4a726e0b022c",
   "metadata": {},
   "outputs": [
    {
     "name": "stdout",
     "output_type": "stream",
     "text": [
      "0.0014349155422521999\n"
     ]
    }
   ],
   "source": [
    "R2_per_capita_2004=compute_R2(GDP_per_capita_2004,Total_medals_2004)\n",
    "print(R2_per_capita_2004)"
   ]
  },
  {
   "cell_type": "markdown",
   "id": "a8ca6b1d-3323-45d4-b199-967a3053a9e9",
   "metadata": {},
   "source": [
    "Thus we see that a linear relation between the per capita GDP of a country and its total number of medals earned is very bad fit and we cannot infer that the medals earned is related to the per capita GDP"
   ]
  },
  {
   "cell_type": "code",
   "execution_count": 402,
   "id": "b5815769-ca6a-4723-b8b2-be8876ed4968",
   "metadata": {},
   "outputs": [
    {
     "data": {
      "image/png": "[encoded data removed]",
      "text/plain": [
       "<Figure size 432x288 with 1 Axes>"
      ]
     },
     "metadata": {
      "needs_background": "light"
     },
     "output_type": "display_data"
    }
   ],
   "source": [
    "plt.plot(GDP_total_2004,Total_medals_2004,'bo')\n",
    "c1,c0=np.polyfit(GDP_total_2004,Total_medals_2004,deg=1)\n",
    "plt.plot(GDP_total_2004,c0 + c1*GDP_total_2004,'r-',lw=3)\n",
    "plt.xlabel(\"Total GDP in year 2003(in billion$)\")\n",
    "plt.ylabel(\"Total Medals won in Athens 2004 Olympics\");"
   ]
  },
  {
   "cell_type": "code",
   "execution_count": 438,
   "id": "62112fee-4a9c-429a-b3b8-ec15512f4afe",
   "metadata": {},
   "outputs": [
    {
     "name": "stdout",
     "output_type": "stream",
     "text": [
      "0.4303721156054947\n"
     ]
    }
   ],
   "source": [
    "R2_total_2004=compute_R2(GDP_total_2004,Total_medals_2004)\n",
    "print(R2_total_2004)"
   ]
  },
  {
   "cell_type": "markdown",
   "id": "7c907cab-6dd0-48c1-9125-a67a53cdbc41",
   "metadata": {},
   "source": [
    "Therefore we see that the linear relation between the total GDP and the number of medals earned is better than that compared to GDP per capita but still not as good as we want it to infer anything out of it."
   ]
  },
  {
   "cell_type": "markdown",
   "id": "25ddc3f5-421e-4b44-b9d1-b2e2c940bbf1",
   "metadata": {},
   "source": [
    "### Reading CSV file and extracting data for 2012 Olympics"
   ]
  },
  {
   "cell_type": "code",
   "execution_count": 366,
   "id": "84e1b16f-df44-40a6-85c1-29487fa501e6",
   "metadata": {
    "tags": []
   },
   "outputs": [],
   "source": [
    "data_2012=pd.read_csv('2012-economy.csv',header=None,sep=',')"
   ]
  },
  {
   "cell_type": "code",
   "execution_count": 367,
   "id": "da3275b2-486d-4a45-8948-dffe926d63ad",
   "metadata": {},
   "outputs": [],
   "source": [
    "data_2012.columns=['Country','Gold','Silver','Bronze','Total','Total GDP-2010(in billion$)','Per capita GDP-2010(in $)','Total GDP-2011(in billion$)','Per capita GDP-2011(in $)']"
   ]
  },
  {
   "cell_type": "code",
   "execution_count": 368,
   "id": "60ffaa81-4d15-47b7-b2b2-9178ae8dec89",
   "metadata": {},
   "outputs": [
    {
     "data": {
      "text/html": [
       "<div>\n",
       "<style scoped>\n",
       "    .dataframe tbody tr th:only-of-type {\n",
       "        vertical-align: middle;\n",
       "    }\n",
       "\n",
       "    .dataframe tbody tr th {\n",
       "        vertical-align: top;\n",
       "    }\n",
       "\n",
       "    .dataframe thead th {\n",
       "        text-align: right;\n",
       "    }\n",
       "</style>\n",
       "<table border=\"1\" class=\"dataframe\">\n",
       "  <thead>\n",
       "    <tr style=\"text-align: right;\">\n",
       "      <th></th>\n",
       "      <th>Country</th>\n",
       "      <th>Gold</th>\n",
       "      <th>Silver</th>\n",
       "      <th>Bronze</th>\n",
       "      <th>Total</th>\n",
       "      <th>Total GDP-2010(in billion$)</th>\n",
       "      <th>Per capita GDP-2010(in $)</th>\n",
       "      <th>Total GDP-2011(in billion$)</th>\n",
       "      <th>Per capita GDP-2011(in $)</th>\n",
       "    </tr>\n",
       "  </thead>\n",
       "  <tbody>\n",
       "    <tr>\n",
       "      <th>0</th>\n",
       "      <td>United States</td>\n",
       "      <td>47</td>\n",
       "      <td>27</td>\n",
       "      <td>30</td>\n",
       "      <td>104</td>\n",
       "      <td>15049.0</td>\n",
       "      <td>48403.3</td>\n",
       "      <td>15599.0</td>\n",
       "      <td>49829.1</td>\n",
       "    </tr>\n",
       "    <tr>\n",
       "      <th>1</th>\n",
       "      <td>China</td>\n",
       "      <td>38</td>\n",
       "      <td>31</td>\n",
       "      <td>22</td>\n",
       "      <td>91</td>\n",
       "      <td>6090.0</td>\n",
       "      <td>4499.8</td>\n",
       "      <td>7550.0</td>\n",
       "      <td>5553.2</td>\n",
       "    </tr>\n",
       "    <tr>\n",
       "      <th>2</th>\n",
       "      <td>Great Britain*</td>\n",
       "      <td>29</td>\n",
       "      <td>18</td>\n",
       "      <td>18</td>\n",
       "      <td>65</td>\n",
       "      <td>1884.0</td>\n",
       "      <td>30027.0</td>\n",
       "      <td>1911.0</td>\n",
       "      <td>30212.0</td>\n",
       "    </tr>\n",
       "    <tr>\n",
       "      <th>3</th>\n",
       "      <td>Russia</td>\n",
       "      <td>19</td>\n",
       "      <td>21</td>\n",
       "      <td>27</td>\n",
       "      <td>67</td>\n",
       "      <td>1633.1</td>\n",
       "      <td>11406.2</td>\n",
       "      <td>2046.6</td>\n",
       "      <td>14271.7</td>\n",
       "    </tr>\n",
       "    <tr>\n",
       "      <th>4</th>\n",
       "      <td>South Korea</td>\n",
       "      <td>13</td>\n",
       "      <td>9</td>\n",
       "      <td>8</td>\n",
       "      <td>30</td>\n",
       "      <td>1144.0</td>\n",
       "      <td>23085.4</td>\n",
       "      <td>1253.2</td>\n",
       "      <td>25095.1</td>\n",
       "    </tr>\n",
       "    <tr>\n",
       "      <th>5</th>\n",
       "      <td>Germany</td>\n",
       "      <td>11</td>\n",
       "      <td>20</td>\n",
       "      <td>13</td>\n",
       "      <td>44</td>\n",
       "      <td>3402.4</td>\n",
       "      <td>42641.4</td>\n",
       "      <td>3748.7</td>\n",
       "      <td>46852.9</td>\n",
       "    </tr>\n",
       "    <tr>\n",
       "      <th>6</th>\n",
       "      <td>France</td>\n",
       "      <td>11</td>\n",
       "      <td>11</td>\n",
       "      <td>13</td>\n",
       "      <td>35</td>\n",
       "      <td>2647.4</td>\n",
       "      <td>42178.6</td>\n",
       "      <td>2864.7</td>\n",
       "      <td>45420.0</td>\n",
       "    </tr>\n",
       "    <tr>\n",
       "      <th>7</th>\n",
       "      <td>Australia</td>\n",
       "      <td>8</td>\n",
       "      <td>15</td>\n",
       "      <td>12</td>\n",
       "      <td>35</td>\n",
       "      <td>1251.8</td>\n",
       "      <td>56453.8</td>\n",
       "      <td>1513.7</td>\n",
       "      <td>67222.1</td>\n",
       "    </tr>\n",
       "    <tr>\n",
       "      <th>8</th>\n",
       "      <td>Italy</td>\n",
       "      <td>8</td>\n",
       "      <td>9</td>\n",
       "      <td>11</td>\n",
       "      <td>28</td>\n",
       "      <td>2137.8</td>\n",
       "      <td>35805.4</td>\n",
       "      <td>2294.6</td>\n",
       "      <td>38273.8</td>\n",
       "    </tr>\n",
       "    <tr>\n",
       "      <th>9</th>\n",
       "      <td>Hungary</td>\n",
       "      <td>8</td>\n",
       "      <td>4</td>\n",
       "      <td>6</td>\n",
       "      <td>18</td>\n",
       "      <td>131.1</td>\n",
       "      <td>13095.2</td>\n",
       "      <td>141.1</td>\n",
       "      <td>14130.7</td>\n",
       "    </tr>\n",
       "    <tr>\n",
       "      <th>10</th>\n",
       "      <td>Japan</td>\n",
       "      <td>7</td>\n",
       "      <td>14</td>\n",
       "      <td>17</td>\n",
       "      <td>38</td>\n",
       "      <td>5700.0</td>\n",
       "      <td>44673.6</td>\n",
       "      <td>6160.0</td>\n",
       "      <td>48168.8</td>\n",
       "    </tr>\n",
       "    <tr>\n",
       "      <th>11</th>\n",
       "      <td>Iran</td>\n",
       "      <td>7</td>\n",
       "      <td>5</td>\n",
       "      <td>1</td>\n",
       "      <td>13</td>\n",
       "      <td>487.0</td>\n",
       "      <td>6600.0</td>\n",
       "      <td>583.0</td>\n",
       "      <td>7781.0</td>\n",
       "    </tr>\n",
       "    <tr>\n",
       "      <th>12</th>\n",
       "      <td>Netherlands</td>\n",
       "      <td>6</td>\n",
       "      <td>6</td>\n",
       "      <td>8</td>\n",
       "      <td>20</td>\n",
       "      <td>639.2</td>\n",
       "      <td>38469.6</td>\n",
       "      <td>650.4</td>\n",
       "      <td>38959.8</td>\n",
       "    </tr>\n",
       "    <tr>\n",
       "      <th>13</th>\n",
       "      <td>New Zealand</td>\n",
       "      <td>6</td>\n",
       "      <td>2</td>\n",
       "      <td>5</td>\n",
       "      <td>13</td>\n",
       "      <td>145.3</td>\n",
       "      <td>34216.0</td>\n",
       "      <td>167.2</td>\n",
       "      <td>39168.0</td>\n",
       "    </tr>\n",
       "    <tr>\n",
       "      <th>14</th>\n",
       "      <td>Ukraine</td>\n",
       "      <td>5</td>\n",
       "      <td>4</td>\n",
       "      <td>10</td>\n",
       "      <td>19</td>\n",
       "      <td>136.0</td>\n",
       "      <td>2965.0</td>\n",
       "      <td>163.2</td>\n",
       "      <td>3570.0</td>\n",
       "    </tr>\n",
       "    <tr>\n",
       "      <th>15</th>\n",
       "      <td>Cuba</td>\n",
       "      <td>5</td>\n",
       "      <td>3</td>\n",
       "      <td>7</td>\n",
       "      <td>15</td>\n",
       "      <td>64.3</td>\n",
       "      <td>5730.0</td>\n",
       "      <td>69.0</td>\n",
       "      <td>6140.0</td>\n",
       "    </tr>\n",
       "    <tr>\n",
       "      <th>16</th>\n",
       "      <td>Spain</td>\n",
       "      <td>4</td>\n",
       "      <td>10</td>\n",
       "      <td>6</td>\n",
       "      <td>20</td>\n",
       "      <td>1431.6</td>\n",
       "      <td>30532.0</td>\n",
       "      <td>1488.1</td>\n",
       "      <td>31678.0</td>\n",
       "    </tr>\n",
       "    <tr>\n",
       "      <th>17</th>\n",
       "      <td>Jamaica</td>\n",
       "      <td>4</td>\n",
       "      <td>5</td>\n",
       "      <td>3</td>\n",
       "      <td>12</td>\n",
       "      <td>13.2</td>\n",
       "      <td>4704.0</td>\n",
       "      <td>14.4</td>\n",
       "      <td>5111.0</td>\n",
       "    </tr>\n",
       "    <tr>\n",
       "      <th>18</th>\n",
       "      <td>Czech Republic</td>\n",
       "      <td>4</td>\n",
       "      <td>3</td>\n",
       "      <td>4</td>\n",
       "      <td>11</td>\n",
       "      <td>209.1</td>\n",
       "      <td>19983.0</td>\n",
       "      <td>229.6</td>\n",
       "      <td>21890.0</td>\n",
       "    </tr>\n",
       "    <tr>\n",
       "      <th>19</th>\n",
       "      <td>South Africa</td>\n",
       "      <td>4</td>\n",
       "      <td>1</td>\n",
       "      <td>1</td>\n",
       "      <td>6</td>\n",
       "      <td>375.4</td>\n",
       "      <td>7329.0</td>\n",
       "      <td>416.4</td>\n",
       "      <td>8007.0</td>\n",
       "    </tr>\n",
       "  </tbody>\n",
       "</table>\n",
       "</div>"
      ],
      "text/plain": [
       "            Country  Gold  Silver  Bronze  Total  Total GDP-2010(in billion$)  \\\n",
       "0     United States    47      27      30    104                      15049.0   \n",
       "1             China    38      31      22     91                       6090.0   \n",
       "2    Great Britain*    29      18      18     65                       1884.0   \n",
       "3            Russia    19      21      27     67                       1633.1   \n",
       "4       South Korea    13       9       8     30                       1144.0   \n",
       "5           Germany    11      20      13     44                       3402.4   \n",
       "6            France    11      11      13     35                       2647.4   \n",
       "7         Australia     8      15      12     35                       1251.8   \n",
       "8             Italy     8       9      11     28                       2137.8   \n",
       "9           Hungary     8       4       6     18                        131.1   \n",
       "10            Japan     7      14      17     38                       5700.0   \n",
       "11             Iran     7       5       1     13                        487.0   \n",
       "12      Netherlands     6       6       8     20                        639.2   \n",
       "13      New Zealand     6       2       5     13                        145.3   \n",
       "14          Ukraine     5       4      10     19                        136.0   \n",
       "15             Cuba     5       3       7     15                         64.3   \n",
       "16            Spain     4      10       6     20                       1431.6   \n",
       "17          Jamaica     4       5       3     12                         13.2   \n",
       "18   Czech Republic     4       3       4     11                        209.1   \n",
       "19     South Africa     4       1       1      6                        375.4   \n",
       "\n",
       "    Per capita GDP-2010(in $)  Total GDP-2011(in billion$)  \\\n",
       "0                     48403.3                      15599.0   \n",
       "1                      4499.8                       7550.0   \n",
       "2                     30027.0                       1911.0   \n",
       "3                     11406.2                       2046.6   \n",
       "4                     23085.4                       1253.2   \n",
       "5                     42641.4                       3748.7   \n",
       "6                     42178.6                       2864.7   \n",
       "7                     56453.8                       1513.7   \n",
       "8                     35805.4                       2294.6   \n",
       "9                     13095.2                        141.1   \n",
       "10                    44673.6                       6160.0   \n",
       "11                     6600.0                        583.0   \n",
       "12                    38469.6                        650.4   \n",
       "13                    34216.0                        167.2   \n",
       "14                     2965.0                        163.2   \n",
       "15                     5730.0                         69.0   \n",
       "16                    30532.0                       1488.1   \n",
       "17                     4704.0                         14.4   \n",
       "18                    19983.0                        229.6   \n",
       "19                     7329.0                        416.4   \n",
       "\n",
       "    Per capita GDP-2011(in $)  \n",
       "0                     49829.1  \n",
       "1                      5553.2  \n",
       "2                     30212.0  \n",
       "3                     14271.7  \n",
       "4                     25095.1  \n",
       "5                     46852.9  \n",
       "6                     45420.0  \n",
       "7                     67222.1  \n",
       "8                     38273.8  \n",
       "9                     14130.7  \n",
       "10                    48168.8  \n",
       "11                     7781.0  \n",
       "12                    38959.8  \n",
       "13                    39168.0  \n",
       "14                     3570.0  \n",
       "15                     6140.0  \n",
       "16                    31678.0  \n",
       "17                     5111.0  \n",
       "18                    21890.0  \n",
       "19                     8007.0  "
      ]
     },
     "execution_count": 368,
     "metadata": {},
     "output_type": "execute_result"
    }
   ],
   "source": [
    "data_2012"
   ]
  },
  {
   "cell_type": "code",
   "execution_count": 404,
   "id": "2a621740-9149-407f-8d60-2d2751738618",
   "metadata": {},
   "outputs": [],
   "source": [
    "#taking out my 3 random variables\n",
    "GDP_per_capita_2012=data_2012['Per capita GDP-2011(in $)']#random variable 1 is per capita GDP in 2011\n",
    "Total_medals_2012=data_2012['Total']#random variable 2 is Total number of medals earned in London 2012 Olympics\n",
    "GDP_total_2012=data_2012['Total GDP-2011(in billion$)']#random variable 3 is Total GDP in 2011"
   ]
  },
  {
   "cell_type": "markdown",
   "id": "dcc2992e-94c8-493a-b380-19ca316542aa",
   "metadata": {},
   "source": [
    "### Showing distribution of per capita GDP in 2011"
   ]
  },
  {
   "cell_type": "code",
   "execution_count": 407,
   "id": "0301e0b5-710f-4f39-996f-0c672a3759b1",
   "metadata": {},
   "outputs": [
    {
     "data": {
      "image/png": "[encoded data removed]",
      "text/plain": [
       "<Figure size 432x288 with 1 Axes>"
      ]
     },
     "metadata": {
      "needs_background": "light"
     },
     "output_type": "display_data"
    }
   ],
   "source": [
    "#seeing if my distribution is a normal distribution or not\n",
    "xs = np.linspace(15000, 40000, 30)\n",
    "mean_xbar = np.mean(GDP_per_capita_2012)\n",
    "std_xbar = np.std(GDP_per_capita_2012, ddof=1)/np.sqrt(30) # 30 is the sample size \n",
    "ys = stats.norm.pdf(xs,mean_xbar,std_xbar)\n",
    "\n",
    "#ploting my sample averages along with normal distribution with the same avg and standard deviation\n",
    "avgs=collect_samples(GDP_per_capita_2012,12,2000)\n",
    "plt.hist(avgs, bins=20,density=True)\n",
    "plt.plot(xs,ys,'k-');\n",
    "plt.xlabel('GDP per capita in year 2011(in $)')\n",
    "plt.ylabel('Distribution');"
   ]
  },
  {
   "cell_type": "markdown",
   "id": "e6e0184c-47ad-4c5c-84fb-6d4569ae4838",
   "metadata": {},
   "source": [
    "So looks like the distribution we get is fairly close to a normal distribution!"
   ]
  },
  {
   "cell_type": "code",
   "execution_count": 408,
   "id": "b3d9bde7-5824-4428-b481-4f2e2bc55981",
   "metadata": {},
   "outputs": [
    {
     "data": {
      "text/plain": [
       "(18310.9110485372, 43469.0489514628)"
      ]
     },
     "execution_count": 408,
     "metadata": {},
     "output_type": "execute_result"
    }
   ],
   "source": [
    "compute_CI_95_mean(GDP_per_capita_2012,10)"
   ]
  },
  {
   "cell_type": "markdown",
   "id": "911d1df9-efb0-4732-af7c-4aaf53d0f126",
   "metadata": {},
   "source": [
    "### Showing distribution of Total GDP in 2011"
   ]
  },
  {
   "cell_type": "code",
   "execution_count": 413,
   "id": "8497b3b3-fbce-49c4-8520-8e3ef77b2deb",
   "metadata": {},
   "outputs": [
    {
     "data": {
      "image/png": "[encoded data removed]",
      "text/plain": [
       "<Figure size 432x288 with 1 Axes>"
      ]
     },
     "metadata": {
      "needs_background": "light"
     },
     "output_type": "display_data"
    }
   ],
   "source": [
    "# using methods as previous rv to do the same for this one\n",
    "xs = np.linspace(500, 4500, 50)\n",
    "mean_xbar = np.mean(GDP_total_2012)\n",
    "std_xbar = np.std(GDP_total_2012, ddof=1)/np.sqrt(50) # 50 is the sample size \n",
    "ys = stats.norm.pdf(xs,mean_xbar,std_xbar)\n",
    "\n",
    "avgs=collect_samples(GDP_total_2012,12,10000)\n",
    "plt.hist(avgs, bins=20,density=True)\n",
    "plt.plot(xs,ys,'k-');\n",
    "plt.xlabel('Total GDP in year 2011(in billion$)')\n",
    "plt.ylabel('Distribution');"
   ]
  },
  {
   "cell_type": "markdown",
   "id": "3838bd03-7a41-41e7-9568-4e510000237e",
   "metadata": {},
   "source": [
    "The distribution has three individual peaks and is not close to a normal distribution."
   ]
  },
  {
   "cell_type": "markdown",
   "id": "d5a3ef0e-b264-4f97-83d8-90078790caa5",
   "metadata": {
    "tags": []
   },
   "source": [
    "### Calculating the 95% Confidence Interval of this dataset"
   ]
  },
  {
   "cell_type": "code",
   "execution_count": 415,
   "id": "fbecfe00-d5ec-4bb6-83e8-9484d43de9ac",
   "metadata": {},
   "outputs": [
    {
     "data": {
      "text/plain": [
       "(453.2989334912663, 5575.401066508734)"
      ]
     },
     "execution_count": 415,
     "metadata": {},
     "output_type": "execute_result"
    }
   ],
   "source": [
    "compute_CI_95_mean(GDP_total_2012,12)"
   ]
  },
  {
   "cell_type": "markdown",
   "id": "9c5b59a4-62c3-4e10-b772-fd5bfe68439f",
   "metadata": {},
   "source": [
    "### Showing distribution of Total Medals won in London 2012 Olympics"
   ]
  },
  {
   "cell_type": "code",
   "execution_count": 419,
   "id": "ee2c14ae-ce82-41b9-8e40-b148882f5e12",
   "metadata": {
    "jupyter": {
     "source_hidden": true
    },
    "tags": []
   },
   "outputs": [
    {
     "data": {
      "image/png": "[encoded data removed]",
      "text/plain": [
       "<Figure size 432x288 with 1 Axes>"
      ]
     },
     "metadata": {
      "needs_background": "light"
     },
     "output_type": "display_data"
    }
   ],
   "source": [
    "xs = np.linspace(20, 50, 50)\n",
    "mean_xbar = np.mean(Total_medals_2012)\n",
    "std_xbar = np.std(Total_medals_2012, ddof=1)/np.sqrt(50) # 50 is the sample size \n",
    "ys = stats.norm.pdf(xs,mean_xbar,std_xbar)\n",
    "\n",
    "avgs=collect_samples(Total_medals_2012,12,1000)\n",
    "plt.hist(avgs, bins=20,density=True)\n",
    "plt.plot(xs,ys,'k-');\n",
    "plt.xlabel('Total medals in London 2012 Olympics')\n",
    "plt.ylabel('Distribution');"
   ]
  },
  {
   "cell_type": "markdown",
   "id": "e566b1d9-5875-4d1e-b31a-fa28373f2d75",
   "metadata": {},
   "source": [
    "So looks like the distribution we get is fairly close to a normal distribution!"
   ]
  },
  {
   "cell_type": "markdown",
   "id": "2118aee6-50ed-4367-8ef1-2c4cda01b10c",
   "metadata": {
    "tags": []
   },
   "source": [
    "### Calculating the 95% Confidence Interval of this dataset"
   ]
  },
  {
   "cell_type": "code",
   "execution_count": 420,
   "id": "f53cf379-bcf0-4c8b-91e4-d498e5672c2b",
   "metadata": {},
   "outputs": [
    {
     "data": {
      "text/plain": [
       "(23.505015631086515, 60.494984368913485)"
      ]
     },
     "execution_count": 420,
     "metadata": {},
     "output_type": "execute_result"
    }
   ],
   "source": [
    "compute_CI_95_mean(Total_medals_2012,12)"
   ]
  },
  {
   "cell_type": "markdown",
   "id": "939a00e0-5b1d-4e05-8b57-8879b076b471",
   "metadata": {},
   "source": [
    "### Analysing relations between pairs of Random Variables"
   ]
  },
  {
   "cell_type": "code",
   "execution_count": 421,
   "id": "f53abffc-84e1-4a53-a96c-ebb6cb1fd50c",
   "metadata": {},
   "outputs": [
    {
     "data": {
      "image/png": "[encoded data removed]",
      "text/plain": [
       "<Figure size 432x288 with 1 Axes>"
      ]
     },
     "metadata": {
      "needs_background": "light"
     },
     "output_type": "display_data"
    }
   ],
   "source": [
    "#we plot the two rv, and find the best possible linear fit for the same\n",
    "plt.plot(GDP_per_capita_2012,Total_medals_2012,'bo')\n",
    "c1,c0=np.polyfit(GDP_per_capita_2012,Total_medals_2012,deg=1)\n",
    "plt.plot(GDP_per_capita_2012,c0 + c1*GDP_per_capita_2012,'r-',lw=3)\n",
    "plt.xlabel(\"GDP per capita in year 2011(in $)\")\n",
    "plt.ylabel(\"Total Medals won in London 2012 Olympics \");"
   ]
  },
  {
   "cell_type": "code",
   "execution_count": 439,
   "id": "df7c19d7-adb9-4ab5-8929-35b5f76c223e",
   "metadata": {},
   "outputs": [
    {
     "name": "stdout",
     "output_type": "stream",
     "text": [
      "0.05632768493502198\n"
     ]
    }
   ],
   "source": [
    "R2_per_capita_2012=compute_R2(GDP_per_capita_2012,Total_medals_2012)\n",
    "print(R2_per_capita_2012)"
   ]
  },
  {
   "cell_type": "markdown",
   "id": "af8aaab5-fd0a-423a-b074-df2e306c7a1a",
   "metadata": {},
   "source": [
    "Thus we see that a linear relation between the per capita GDP of a country and its total number of medals earned is very bad fit and we cannot infer that the medals earned is related to the per capita GDP"
   ]
  },
  {
   "cell_type": "code",
   "execution_count": 423,
   "id": "2ec317c8-542b-4627-ac66-7f11be35de60",
   "metadata": {},
   "outputs": [
    {
     "data": {
      "image/png": "[encoded data removed]",
      "text/plain": [
       "<Figure size 432x288 with 1 Axes>"
      ]
     },
     "metadata": {
      "needs_background": "light"
     },
     "output_type": "display_data"
    }
   ],
   "source": [
    "plt.plot(GDP_total_2012,Total_medals_2012,'bo')\n",
    "c1,c0=np.polyfit(GDP_total_2012,Total_medals_2012,deg=1)\n",
    "plt.plot(GDP_total_2012,c0 + c1*GDP_total_2012,'r-',lw=3)\n",
    "plt.xlabel(\"Total GDP in year 2011(in billion$)\")\n",
    "plt.ylabel(\"Total Medals won in London 2012 Olympics\");"
   ]
  },
  {
   "cell_type": "code",
   "execution_count": 440,
   "id": "bc3ebb32-ad7c-4805-ac7c-15c026313307",
   "metadata": {},
   "outputs": [
    {
     "name": "stdout",
     "output_type": "stream",
     "text": [
      "0.7013041345075147\n"
     ]
    }
   ],
   "source": [
    "R2_total_2012=compute_R2(GDP_total_2012,Total_medals_2012)\n",
    "print(R2_total_2012)"
   ]
  },
  {
   "cell_type": "markdown",
   "id": "1e72f6c9-7644-4ba9-b57b-3b28ca354efa",
   "metadata": {},
   "source": [
    "Therefore we see that the linear relation between the total GDP and the number of medals earned is better than that compared to GDP per capita but still not as good as we want it to infer anything out of it."
   ]
  },
  {
   "cell_type": "markdown",
   "id": "66709ccf-4b17-4087-9b8e-e4217fa90a1f",
   "metadata": {},
   "source": [
    "### Reading CSV file and extracting data for 2020 Olympics"
   ]
  },
  {
   "cell_type": "code",
   "execution_count": 324,
   "id": "b0d846d8-3e2f-4f2f-84b0-7e84e64f7dd3",
   "metadata": {
    "tags": []
   },
   "outputs": [],
   "source": [
    "data_2020=pd.read_csv('2020-economy.csv',header=None,sep=',')"
   ]
  },
  {
   "cell_type": "code",
   "execution_count": 325,
   "id": "0c572d27-03d5-4bec-a89c-a74eb5815334",
   "metadata": {},
   "outputs": [],
   "source": [
    "data_2020.columns=['Country','Gold','Silver','Bronze','Total','Total GDP-2018(in billion$)','Per capita GDP-2018(in $)','Total GDP-2019(in billion$)','Per capita GDP-2019(in $)']"
   ]
  },
  {
   "cell_type": "code",
   "execution_count": 326,
   "id": "f35128b3-bdcb-4851-8585-0ceac0737926",
   "metadata": {},
   "outputs": [
    {
     "data": {
      "text/html": [
       "<div>\n",
       "<style scoped>\n",
       "    .dataframe tbody tr th:only-of-type {\n",
       "        vertical-align: middle;\n",
       "    }\n",
       "\n",
       "    .dataframe tbody tr th {\n",
       "        vertical-align: top;\n",
       "    }\n",
       "\n",
       "    .dataframe thead th {\n",
       "        text-align: right;\n",
       "    }\n",
       "</style>\n",
       "<table border=\"1\" class=\"dataframe\">\n",
       "  <thead>\n",
       "    <tr style=\"text-align: right;\">\n",
       "      <th></th>\n",
       "      <th>Country</th>\n",
       "      <th>Gold</th>\n",
       "      <th>Silver</th>\n",
       "      <th>Bronze</th>\n",
       "      <th>Total</th>\n",
       "      <th>Total GDP-2018(in billion$)</th>\n",
       "      <th>Per capita GDP-2018(in $)</th>\n",
       "      <th>Total GDP-2019(in billion$)</th>\n",
       "      <th>Per capita GDP-2019(in $)</th>\n",
       "    </tr>\n",
       "  </thead>\n",
       "  <tbody>\n",
       "    <tr>\n",
       "      <th>0</th>\n",
       "      <td>United States</td>\n",
       "      <td>39</td>\n",
       "      <td>41</td>\n",
       "      <td>33</td>\n",
       "      <td>113</td>\n",
       "      <td>20527.2</td>\n",
       "      <td>62769.7</td>\n",
       "      <td>21372.6</td>\n",
       "      <td>65051.9</td>\n",
       "    </tr>\n",
       "    <tr>\n",
       "      <th>1</th>\n",
       "      <td>China</td>\n",
       "      <td>38</td>\n",
       "      <td>32</td>\n",
       "      <td>18</td>\n",
       "      <td>88</td>\n",
       "      <td>13841.8</td>\n",
       "      <td>9849.0</td>\n",
       "      <td>14340.6</td>\n",
       "      <td>10170.1</td>\n",
       "    </tr>\n",
       "    <tr>\n",
       "      <th>2</th>\n",
       "      <td>Japan*</td>\n",
       "      <td>27</td>\n",
       "      <td>14</td>\n",
       "      <td>17</td>\n",
       "      <td>58</td>\n",
       "      <td>5036.9</td>\n",
       "      <td>39818.8</td>\n",
       "      <td>5135.9</td>\n",
       "      <td>40689.8</td>\n",
       "    </tr>\n",
       "    <tr>\n",
       "      <th>3</th>\n",
       "      <td>Great Britain</td>\n",
       "      <td>22</td>\n",
       "      <td>20</td>\n",
       "      <td>22</td>\n",
       "      <td>64</td>\n",
       "      <td>2218.0</td>\n",
       "      <td>33388.0</td>\n",
       "      <td>2255.0</td>\n",
       "      <td>33763.0</td>\n",
       "    </tr>\n",
       "    <tr>\n",
       "      <th>4</th>\n",
       "      <td>ROC</td>\n",
       "      <td>20</td>\n",
       "      <td>28</td>\n",
       "      <td>23</td>\n",
       "      <td>71</td>\n",
       "      <td>1653.0</td>\n",
       "      <td>11261.7</td>\n",
       "      <td>1690.1</td>\n",
       "      <td>11516.6</td>\n",
       "    </tr>\n",
       "    <tr>\n",
       "      <th>5</th>\n",
       "      <td>Australia</td>\n",
       "      <td>17</td>\n",
       "      <td>7</td>\n",
       "      <td>22</td>\n",
       "      <td>46</td>\n",
       "      <td>1421.2</td>\n",
       "      <td>56460.9</td>\n",
       "      <td>1392.3</td>\n",
       "      <td>54476.9</td>\n",
       "    </tr>\n",
       "    <tr>\n",
       "      <th>6</th>\n",
       "      <td>Netherlands</td>\n",
       "      <td>10</td>\n",
       "      <td>12</td>\n",
       "      <td>14</td>\n",
       "      <td>36</td>\n",
       "      <td>774.0</td>\n",
       "      <td>44916.7</td>\n",
       "      <td>813.1</td>\n",
       "      <td>46875.8</td>\n",
       "    </tr>\n",
       "    <tr>\n",
       "      <th>7</th>\n",
       "      <td>France</td>\n",
       "      <td>10</td>\n",
       "      <td>12</td>\n",
       "      <td>11</td>\n",
       "      <td>33</td>\n",
       "      <td>2789.7</td>\n",
       "      <td>43021.4</td>\n",
       "      <td>2728.8</td>\n",
       "      <td>41989.7</td>\n",
       "    </tr>\n",
       "    <tr>\n",
       "      <th>8</th>\n",
       "      <td>Germany</td>\n",
       "      <td>10</td>\n",
       "      <td>11</td>\n",
       "      <td>16</td>\n",
       "      <td>37</td>\n",
       "      <td>3979.1</td>\n",
       "      <td>47995.4</td>\n",
       "      <td>3888.8</td>\n",
       "      <td>46800.2</td>\n",
       "    </tr>\n",
       "    <tr>\n",
       "      <th>9</th>\n",
       "      <td>Italy</td>\n",
       "      <td>10</td>\n",
       "      <td>10</td>\n",
       "      <td>20</td>\n",
       "      <td>40</td>\n",
       "      <td>2093.1</td>\n",
       "      <td>34921.0</td>\n",
       "      <td>2005.1</td>\n",
       "      <td>33521.3</td>\n",
       "    </tr>\n",
       "    <tr>\n",
       "      <th>10</th>\n",
       "      <td>Canada</td>\n",
       "      <td>7</td>\n",
       "      <td>6</td>\n",
       "      <td>11</td>\n",
       "      <td>24</td>\n",
       "      <td>1721.8</td>\n",
       "      <td>46454.0</td>\n",
       "      <td>1741.6</td>\n",
       "      <td>46327.0</td>\n",
       "    </tr>\n",
       "    <tr>\n",
       "      <th>11</th>\n",
       "      <td>Brazil</td>\n",
       "      <td>7</td>\n",
       "      <td>6</td>\n",
       "      <td>8</td>\n",
       "      <td>21</td>\n",
       "      <td>1916.9</td>\n",
       "      <td>9194.0</td>\n",
       "      <td>1877.8</td>\n",
       "      <td>8935.0</td>\n",
       "    </tr>\n",
       "    <tr>\n",
       "      <th>12</th>\n",
       "      <td>New Zealand</td>\n",
       "      <td>7</td>\n",
       "      <td>6</td>\n",
       "      <td>7</td>\n",
       "      <td>20</td>\n",
       "      <td>210.0</td>\n",
       "      <td>42839.8</td>\n",
       "      <td>210.4</td>\n",
       "      <td>42210.2</td>\n",
       "    </tr>\n",
       "    <tr>\n",
       "      <th>13</th>\n",
       "      <td>Cuba</td>\n",
       "      <td>7</td>\n",
       "      <td>3</td>\n",
       "      <td>5</td>\n",
       "      <td>15</td>\n",
       "      <td>100.1</td>\n",
       "      <td>8824.0</td>\n",
       "      <td>103.1</td>\n",
       "      <td>9100.0</td>\n",
       "    </tr>\n",
       "    <tr>\n",
       "      <th>14</th>\n",
       "      <td>Hungary</td>\n",
       "      <td>6</td>\n",
       "      <td>7</td>\n",
       "      <td>7</td>\n",
       "      <td>20</td>\n",
       "      <td>160.4</td>\n",
       "      <td>16407.4</td>\n",
       "      <td>163.5</td>\n",
       "      <td>16729.1</td>\n",
       "    </tr>\n",
       "    <tr>\n",
       "      <th>15</th>\n",
       "      <td>South Korea</td>\n",
       "      <td>6</td>\n",
       "      <td>4</td>\n",
       "      <td>10</td>\n",
       "      <td>20</td>\n",
       "      <td>1725.4</td>\n",
       "      <td>33433.2</td>\n",
       "      <td>1651.4</td>\n",
       "      <td>31936.8</td>\n",
       "    </tr>\n",
       "    <tr>\n",
       "      <th>16</th>\n",
       "      <td>Poland</td>\n",
       "      <td>4</td>\n",
       "      <td>5</td>\n",
       "      <td>5</td>\n",
       "      <td>14</td>\n",
       "      <td>587.4</td>\n",
       "      <td>15468.0</td>\n",
       "      <td>595.8</td>\n",
       "      <td>15695.0</td>\n",
       "    </tr>\n",
       "    <tr>\n",
       "      <th>17</th>\n",
       "      <td>Czech Republic</td>\n",
       "      <td>4</td>\n",
       "      <td>4</td>\n",
       "      <td>3</td>\n",
       "      <td>11</td>\n",
       "      <td>11248.9</td>\n",
       "      <td>23463.0</td>\n",
       "      <td>250.7</td>\n",
       "      <td>23709.0</td>\n",
       "    </tr>\n",
       "    <tr>\n",
       "      <th>18</th>\n",
       "      <td>Kenya</td>\n",
       "      <td>4</td>\n",
       "      <td>4</td>\n",
       "      <td>2</td>\n",
       "      <td>10</td>\n",
       "      <td>87.7</td>\n",
       "      <td>1708.0</td>\n",
       "      <td>95.5</td>\n",
       "      <td>1817.0</td>\n",
       "    </tr>\n",
       "    <tr>\n",
       "      <th>19</th>\n",
       "      <td>Norway</td>\n",
       "      <td>4</td>\n",
       "      <td>2</td>\n",
       "      <td>2</td>\n",
       "      <td>8</td>\n",
       "      <td>437.0</td>\n",
       "      <td>82268.0</td>\n",
       "      <td>405.5</td>\n",
       "      <td>75826.0</td>\n",
       "    </tr>\n",
       "  </tbody>\n",
       "</table>\n",
       "</div>"
      ],
      "text/plain": [
       "            Country  Gold  Silver  Bronze  Total  Total GDP-2018(in billion$)  \\\n",
       "0     United States    39      41      33    113                      20527.2   \n",
       "1             China    38      32      18     88                      13841.8   \n",
       "2            Japan*    27      14      17     58                       5036.9   \n",
       "3     Great Britain    22      20      22     64                       2218.0   \n",
       "4               ROC    20      28      23     71                       1653.0   \n",
       "5         Australia    17       7      22     46                       1421.2   \n",
       "6       Netherlands    10      12      14     36                        774.0   \n",
       "7            France    10      12      11     33                       2789.7   \n",
       "8           Germany    10      11      16     37                       3979.1   \n",
       "9             Italy    10      10      20     40                       2093.1   \n",
       "10           Canada     7       6      11     24                       1721.8   \n",
       "11           Brazil     7       6       8     21                       1916.9   \n",
       "12      New Zealand     7       6       7     20                        210.0   \n",
       "13             Cuba     7       3       5     15                        100.1   \n",
       "14          Hungary     6       7       7     20                        160.4   \n",
       "15      South Korea     6       4      10     20                       1725.4   \n",
       "16           Poland     4       5       5     14                        587.4   \n",
       "17   Czech Republic     4       4       3     11                      11248.9   \n",
       "18            Kenya     4       4       2     10                         87.7   \n",
       "19           Norway     4       2       2      8                        437.0   \n",
       "\n",
       "    Per capita GDP-2018(in $)  Total GDP-2019(in billion$)  \\\n",
       "0                     62769.7                      21372.6   \n",
       "1                      9849.0                      14340.6   \n",
       "2                     39818.8                       5135.9   \n",
       "3                     33388.0                       2255.0   \n",
       "4                     11261.7                       1690.1   \n",
       "5                     56460.9                       1392.3   \n",
       "6                     44916.7                        813.1   \n",
       "7                     43021.4                       2728.8   \n",
       "8                     47995.4                       3888.8   \n",
       "9                     34921.0                       2005.1   \n",
       "10                    46454.0                       1741.6   \n",
       "11                     9194.0                       1877.8   \n",
       "12                    42839.8                        210.4   \n",
       "13                     8824.0                        103.1   \n",
       "14                    16407.4                        163.5   \n",
       "15                    33433.2                       1651.4   \n",
       "16                    15468.0                        595.8   \n",
       "17                    23463.0                        250.7   \n",
       "18                     1708.0                         95.5   \n",
       "19                    82268.0                        405.5   \n",
       "\n",
       "    Per capita GDP-2019(in $)  \n",
       "0                     65051.9  \n",
       "1                     10170.1  \n",
       "2                     40689.8  \n",
       "3                     33763.0  \n",
       "4                     11516.6  \n",
       "5                     54476.9  \n",
       "6                     46875.8  \n",
       "7                     41989.7  \n",
       "8                     46800.2  \n",
       "9                     33521.3  \n",
       "10                    46327.0  \n",
       "11                     8935.0  \n",
       "12                    42210.2  \n",
       "13                     9100.0  \n",
       "14                    16729.1  \n",
       "15                    31936.8  \n",
       "16                    15695.0  \n",
       "17                    23709.0  \n",
       "18                     1817.0  \n",
       "19                    75826.0  "
      ]
     },
     "execution_count": 326,
     "metadata": {},
     "output_type": "execute_result"
    }
   ],
   "source": [
    "data_2020"
   ]
  },
  {
   "cell_type": "code",
   "execution_count": 425,
   "id": "41fed7a6-a4a7-4d2b-971b-ed3a91d52301",
   "metadata": {},
   "outputs": [],
   "source": [
    "#taking out my 3 random variables\n",
    "GDP_per_capita_2020=data_2020['Per capita GDP-2019(in $)']#random variable 1 is per capita GDP in 2019\n",
    "Total_medals_2020=data_2020['Total']#random variable 2 is Total number of medals earned in Tokyo 2020 Olympics\n",
    "GDP_total_2020=data_2020['Total GDP-2019(in billion$)']#random variable 3 is Total GDP in 2019"
   ]
  },
  {
   "cell_type": "markdown",
   "id": "991efc13-f490-4107-8e0a-ecc2107ef520",
   "metadata": {},
   "source": [
    "### Showing distribution of per capita GDP in 2019"
   ]
  },
  {
   "cell_type": "code",
   "execution_count": 426,
   "id": "9b9b7631-5be6-4a16-9e3d-3a45aafcede0",
   "metadata": {},
   "outputs": [
    {
     "data": {
      "image/png": "[encoded data removed]",
      "text/plain": [
       "<Figure size 432x288 with 1 Axes>"
      ]
     },
     "metadata": {
      "needs_background": "light"
     },
     "output_type": "display_data"
    }
   ],
   "source": [
    "#seeing if my distribution is a normal distribution or not\n",
    "xs = np.linspace(20000, 45000, 30)\n",
    "mean_xbar = np.mean(GDP_per_capita_2020)\n",
    "std_xbar = np.std(GDP_per_capita_2020, ddof=1)/np.sqrt(30) # 30 is the sample size \n",
    "ys = stats.norm.pdf(xs,mean_xbar,std_xbar)\n",
    "\n",
    "#ploting my sample averages along with normal distribution with the same avg and standard deviation\n",
    "avgs=collect_samples(GDP_per_capita_2020,12,2000)\n",
    "plt.hist(avgs, bins=20,density=True)\n",
    "plt.plot(xs,ys,'k-');\n",
    "plt.xlabel('GDP per capita in year 2019(in $)')\n",
    "plt.ylabel('Distribution');"
   ]
  },
  {
   "cell_type": "markdown",
   "id": "3e66102e-9aff-4225-86fa-a597f58a6b00",
   "metadata": {},
   "source": [
    "So looks like the distribution we get is fairly close to a normal distribution!"
   ]
  },
  {
   "cell_type": "code",
   "execution_count": 427,
   "id": "6162b578-ed3d-4653-b653-75feb5e5233a",
   "metadata": {},
   "outputs": [
    {
     "data": {
      "text/plain": [
       "(16019.547208804186, 45554.17279119581)"
      ]
     },
     "execution_count": 427,
     "metadata": {},
     "output_type": "execute_result"
    }
   ],
   "source": [
    "compute_CI_95_mean(GDP_per_capita_2020,10)"
   ]
  },
  {
   "cell_type": "markdown",
   "id": "58afe8e0-0fa8-4016-90c6-e4e0700386c1",
   "metadata": {},
   "source": [
    "### Showing distribution of Total GDP in 2019"
   ]
  },
  {
   "cell_type": "code",
   "execution_count": 428,
   "id": "b0b585be-1751-4874-911e-2b228318c3da",
   "metadata": {},
   "outputs": [
    {
     "data": {
      "image/png": "[encoded data removed]",
      "text/plain": [
       "<Figure size 432x288 with 1 Axes>"
      ]
     },
     "metadata": {
      "needs_background": "light"
     },
     "output_type": "display_data"
    }
   ],
   "source": [
    "# using methods as previous rv to do the same for this one\n",
    "xs = np.linspace(0, 6000, 50)\n",
    "mean_xbar = np.mean(GDP_total_2020)\n",
    "std_xbar = np.std(GDP_total_2020, ddof=1)/np.sqrt(50) # 50 is the sample size \n",
    "ys = stats.norm.pdf(xs,mean_xbar,std_xbar)\n",
    "\n",
    "avgs=collect_samples(GDP_total_2020,12,10000)\n",
    "plt.hist(avgs, bins=20,density=True)\n",
    "plt.plot(xs,ys,'k-');\n",
    "plt.xlabel('Total GDP in year 2019(in billion$)')\n",
    "plt.ylabel('Distribution');"
   ]
  },
  {
   "cell_type": "markdown",
   "id": "fb47d1bf-b7c7-42d8-8b33-5b5b5d6cbd1d",
   "metadata": {},
   "source": [
    "The distribution has three individual peaks and is not close to a normal distribution."
   ]
  },
  {
   "cell_type": "code",
   "execution_count": 429,
   "id": "2ac3b5a7-a830-4f41-9252-6e8654126e88",
   "metadata": {},
   "outputs": [
    {
     "data": {
      "text/plain": [
       "(709.5089978481928, 5107.341002151807)"
      ]
     },
     "execution_count": 429,
     "metadata": {},
     "output_type": "execute_result"
    }
   ],
   "source": [
    "compute_CI_95_mean(GDP_total_2020,12)"
   ]
  },
  {
   "cell_type": "markdown",
   "id": "c1365c12-ea7b-4f3d-a01e-d2c7bd6b15a1",
   "metadata": {},
   "source": [
    "### Showing distribution of Total Medals won in Tokyo 2020 Olympics"
   ]
  },
  {
   "cell_type": "code",
   "execution_count": 430,
   "id": "13c8884b-937e-4c23-9a8f-056501ca4954",
   "metadata": {},
   "outputs": [
    {
     "data": {
      "image/png": "[encoded data removed]",
      "text/plain": [
       "<Figure size 432x288 with 1 Axes>"
      ]
     },
     "metadata": {
      "needs_background": "light"
     },
     "output_type": "display_data"
    }
   ],
   "source": [
    "xs = np.linspace(20, 50, 50)\n",
    "mean_xbar = np.mean(Total_medals_2020)\n",
    "std_xbar = np.std(Total_medals_2020, ddof=1)/np.sqrt(50) # 50 is the sample size \n",
    "ys = stats.norm.pdf(xs,mean_xbar,std_xbar)\n",
    "\n",
    "avgs=collect_samples(Total_medals_2020,12,1000)\n",
    "plt.hist(avgs, bins=20,density=True)\n",
    "plt.plot(xs,ys,'k-');\n",
    "plt.xlabel('Total medals in Tokyo 2020 Olympics')\n",
    "plt.ylabel('Distribution');"
   ]
  },
  {
   "cell_type": "markdown",
   "id": "1ced90be-d13d-46e9-a003-f19591dc7032",
   "metadata": {},
   "source": [
    "So looks like the distribution we get is fairly close to a normal distribution!"
   ]
  },
  {
   "cell_type": "markdown",
   "id": "db73cc96-ba62-4bd3-9f68-0b3d1797fc07",
   "metadata": {
    "tags": []
   },
   "source": [
    "### Calculating the 95% Confidence Interval of this dataset"
   ]
  },
  {
   "cell_type": "code",
   "execution_count": 431,
   "id": "9e88b36c-2f7a-40bf-a752-db8f99792c60",
   "metadata": {},
   "outputs": [
    {
     "data": {
      "text/plain": [
       "(24.063057757767403, 59.770275575565925)"
      ]
     },
     "execution_count": 431,
     "metadata": {},
     "output_type": "execute_result"
    }
   ],
   "source": [
    "compute_CI_95_mean(Total_medals_2020,12)"
   ]
  },
  {
   "cell_type": "markdown",
   "id": "514de44f-7a1b-4847-8893-faf25872e020",
   "metadata": {},
   "source": [
    "### Analysing relations between pairs of Random Variables"
   ]
  },
  {
   "cell_type": "code",
   "execution_count": 432,
   "id": "a889bf3d-0b43-44f2-b803-9b77b738ca76",
   "metadata": {},
   "outputs": [
    {
     "data": {
      "image/png": "[encoded data removed]",
      "text/plain": [
       "<Figure size 432x288 with 1 Axes>"
      ]
     },
     "metadata": {
      "needs_background": "light"
     },
     "output_type": "display_data"
    }
   ],
   "source": [
    "#we plot the two rv, and find the best possible linear fit for the same\n",
    "plt.plot(GDP_per_capita_2020,Total_medals_2020,'bo')\n",
    "c1,c0=np.polyfit(GDP_per_capita_2020,Total_medals_2020,deg=1)\n",
    "plt.plot(GDP_per_capita_2020,c0 + c1*GDP_per_capita_2020,'r-',lw=3)\n",
    "plt.xlabel(\"GDP per capita in year 2019(in $)\")\n",
    "plt.ylabel(\"Total Medals won in Tokyo 2020 Olympics \");"
   ]
  },
  {
   "cell_type": "code",
   "execution_count": 441,
   "id": "1fb64d3d-0089-4706-a8c4-beefb47b4016",
   "metadata": {},
   "outputs": [
    {
     "name": "stdout",
     "output_type": "stream",
     "text": [
      "0.032614942479561024\n"
     ]
    }
   ],
   "source": [
    "R2_per_capita_2020=compute_R2(GDP_per_capita_2020,Total_medals_2020)\n",
    "print(R2_per_capita_2020)"
   ]
  },
  {
   "cell_type": "markdown",
   "id": "b66f3166-5103-4b64-81fd-d938fea53b37",
   "metadata": {},
   "source": [
    "Thus we see that a linear relation between the per capita GDP of a country and its total number of medals earned is very bad fit and we cannot infer that the medals earned is related to the per capita GDP"
   ]
  },
  {
   "cell_type": "code",
   "execution_count": 435,
   "id": "0d7865db-b222-45e5-8e6b-0e442ce3bf80",
   "metadata": {},
   "outputs": [
    {
     "data": {
      "image/png": "[encoded data removed]",
      "text/plain": [
       "<Figure size 432x288 with 1 Axes>"
      ]
     },
     "metadata": {
      "needs_background": "light"
     },
     "output_type": "display_data"
    }
   ],
   "source": [
    "plt.plot(GDP_total_2020,Total_medals_2020,'bo')\n",
    "c1,c0=np.polyfit(GDP_total_2020,Total_medals_2020,deg=1)\n",
    "plt.plot(GDP_total_2020,c0 + c1*GDP_total_2020,'r-',lw=3)\n",
    "plt.xlabel(\"Total GDP in year 2019(in billion$)\")\n",
    "plt.ylabel(\"Total Medals won in Tokyo in 2020\");"
   ]
  },
  {
   "cell_type": "code",
   "execution_count": 442,
   "id": "523e9091-be5e-41ee-a765-fc9b3717b51a",
   "metadata": {},
   "outputs": [
    {
     "name": "stdout",
     "output_type": "stream",
     "text": [
      "0.7169120542799632\n"
     ]
    }
   ],
   "source": [
    "R2_total_2020=compute_R2(GDP_total_2020,Total_medals_2020)\n",
    "print(R2_total_2020)"
   ]
  },
  {
   "cell_type": "markdown",
   "id": "ef4917e9-3251-4142-bea6-81c0da64de8c",
   "metadata": {},
   "source": [
    "Therefore we see that the linear relation between the total GDP and the number of medals earned is better than that compared to GDP per capita but still not as good as we want it to infer anything out of it."
   ]
  },
  {
   "cell_type": "markdown",
   "id": "2a4a3e68-4cc3-4993-a6b6-5a5685afbf00",
   "metadata": {},
   "source": [
    "### Conclusion"
   ]
  },
  {
   "cell_type": "markdown",
   "id": "621b7b17-9011-42b8-b065-d83c4ba192ae",
   "metadata": {},
   "source": [
    "In this part of our project we have done data analysis on the effect of economy on the total medal won by top 20 countries in the years 2004,2012 and 2020. When we look at the list of top 20 countries in every Olympic we generally see rich countries tend to always be on the list and wonder whether there is relation between the economies of these countries effect their performance, using linear regression we try to infer exactly this.From the analysis we can clearly conclude that neither total GDP nor per capita GDP has a clear linear relation with the total number of medals won even though using total GDP gives us a better sense of a relation."
   ]
  },
  {
   "cell_type": "markdown",
   "id": "b11e034f-647f-4d57-8cbb-ee3b88ff73f0",
   "metadata": {},
   "source": [
    "## Part 2: Relation between Reaction Time and Sprint Time"
   ]
  },
  {
   "cell_type": "code",
   "execution_count": 239,
   "id": "51bacf87-d8a8-40cf-9399-ed14f70faa93",
   "metadata": {},
   "outputs": [],
   "source": [
    "h200m_df=pd.read_csv('heat200mfinal.csv', header= None , sep = ',')"
   ]
  },
  {
   "cell_type": "code",
   "execution_count": 240,
   "id": "7ddb21cf-fb3a-4a86-b658-7ed74e71f2de",
   "metadata": {},
   "outputs": [],
   "source": [
    "h200m_df.columns=['Athelete','Country','Reaction Time','Sprint Time']"
   ]
  },
  {
   "cell_type": "code",
   "execution_count": 288,
   "id": "f73d0a41-c849-4d80-853e-7f7b27536259",
   "metadata": {},
   "outputs": [
    {
     "data": {
      "text/html": [
       "<div>\n",
       "<style scoped>\n",
       "    .dataframe tbody tr th:only-of-type {\n",
       "        vertical-align: middle;\n",
       "    }\n",
       "\n",
       "    .dataframe tbody tr th {\n",
       "        vertical-align: top;\n",
       "    }\n",
       "\n",
       "    .dataframe thead th {\n",
       "        text-align: right;\n",
       "    }\n",
       "</style>\n",
       "<table border=\"1\" class=\"dataframe\">\n",
       "  <thead>\n",
       "    <tr style=\"text-align: right;\">\n",
       "      <th></th>\n",
       "      <th>Athelete</th>\n",
       "      <th>Country</th>\n",
       "      <th>Reaction Time</th>\n",
       "      <th>Sprint Time</th>\n",
       "    </tr>\n",
       "  </thead>\n",
       "  <tbody>\n",
       "    <tr>\n",
       "      <th>0</th>\n",
       "      <td>Rasheed Dwyer</td>\n",
       "      <td>Jamaica</td>\n",
       "      <td>0.163</td>\n",
       "      <td>20.31</td>\n",
       "    </tr>\n",
       "    <tr>\n",
       "      <th>1</th>\n",
       "      <td>Divine Oduduru</td>\n",
       "      <td>Nigeria</td>\n",
       "      <td>0.129</td>\n",
       "      <td>20.36</td>\n",
       "    </tr>\n",
       "    <tr>\n",
       "      <th>2</th>\n",
       "      <td>Anaso Jobodwana</td>\n",
       "      <td>South Africa</td>\n",
       "      <td>0.119</td>\n",
       "      <td>20.78</td>\n",
       "    </tr>\n",
       "    <tr>\n",
       "      <th>3</th>\n",
       "      <td>Jorge Vides</td>\n",
       "      <td>Brazil</td>\n",
       "      <td>0.161</td>\n",
       "      <td>20.94</td>\n",
       "    </tr>\n",
       "    <tr>\n",
       "      <th>4</th>\n",
       "      <td>Fodé Sissoko</td>\n",
       "      <td>Mali</td>\n",
       "      <td>0.167</td>\n",
       "      <td>21.00</td>\n",
       "    </tr>\n",
       "    <tr>\n",
       "      <th>5</th>\n",
       "      <td>Shōta Iizuka</td>\n",
       "      <td>Japan</td>\n",
       "      <td>0.148</td>\n",
       "      <td>21.02</td>\n",
       "    </tr>\n",
       "    <tr>\n",
       "      <th>6</th>\n",
       "      <td>José Andrés Salazar</td>\n",
       "      <td>El Salvador</td>\n",
       "      <td>0.145</td>\n",
       "      <td>21.66</td>\n",
       "    </tr>\n",
       "    <tr>\n",
       "      <th>7</th>\n",
       "      <td>Jereem Richards</td>\n",
       "      <td>Trinidad and Tobago</td>\n",
       "      <td>0.187</td>\n",
       "      <td>20.52</td>\n",
       "    </tr>\n",
       "    <tr>\n",
       "      <th>8</th>\n",
       "      <td>Shaun Maswanganyi</td>\n",
       "      <td>South Africa</td>\n",
       "      <td>0.142</td>\n",
       "      <td>20.58</td>\n",
       "    </tr>\n",
       "    <tr>\n",
       "      <th>9</th>\n",
       "      <td>Taymir Burnet</td>\n",
       "      <td>Netherlands</td>\n",
       "      <td>0.137</td>\n",
       "      <td>20.60</td>\n",
       "    </tr>\n",
       "    <tr>\n",
       "      <th>10</th>\n",
       "      <td>Emmanuel Eseme</td>\n",
       "      <td>Cameroon</td>\n",
       "      <td>0.160</td>\n",
       "      <td>20.65</td>\n",
       "    </tr>\n",
       "    <tr>\n",
       "      <th>11</th>\n",
       "      <td>Ján Volko</td>\n",
       "      <td>Slovakia</td>\n",
       "      <td>0.160</td>\n",
       "      <td>21.21</td>\n",
       "    </tr>\n",
       "    <tr>\n",
       "      <th>12</th>\n",
       "      <td>Abdul Hakim Sani Brown</td>\n",
       "      <td>Japan</td>\n",
       "      <td>0.149</td>\n",
       "      <td>21.41</td>\n",
       "    </tr>\n",
       "    <tr>\n",
       "      <th>13</th>\n",
       "      <td>Femi Ogunode</td>\n",
       "      <td>Qatar</td>\n",
       "      <td>0.154</td>\n",
       "      <td>20.37</td>\n",
       "    </tr>\n",
       "    <tr>\n",
       "      <th>14</th>\n",
       "      <td>Ramil Guliyev</td>\n",
       "      <td>Turkey</td>\n",
       "      <td>0.158</td>\n",
       "      <td>20.54</td>\n",
       "    </tr>\n",
       "    <tr>\n",
       "      <th>15</th>\n",
       "      <td>Andre De Grasse</td>\n",
       "      <td>Canada</td>\n",
       "      <td>0.122</td>\n",
       "      <td>20.56</td>\n",
       "    </tr>\n",
       "    <tr>\n",
       "      <th>16</th>\n",
       "      <td>Kyle Greaux</td>\n",
       "      <td>Trinidad and Tobago</td>\n",
       "      <td>0.149</td>\n",
       "      <td>20.77</td>\n",
       "    </tr>\n",
       "    <tr>\n",
       "      <th>17</th>\n",
       "      <td>Jun Yamashita</td>\n",
       "      <td>Japan</td>\n",
       "      <td>0.118</td>\n",
       "      <td>20.78</td>\n",
       "    </tr>\n",
       "    <tr>\n",
       "      <th>18</th>\n",
       "      <td>Aldemir da Silva Júnior</td>\n",
       "      <td>Brazil</td>\n",
       "      <td>0.160</td>\n",
       "      <td>20.84</td>\n",
       "    </tr>\n",
       "    <tr>\n",
       "      <th>19</th>\n",
       "      <td>Erriyon Knighton</td>\n",
       "      <td>United States</td>\n",
       "      <td>0.173</td>\n",
       "      <td>20.55</td>\n",
       "    </tr>\n",
       "    <tr>\n",
       "      <th>20</th>\n",
       "      <td>Alonso Edward</td>\n",
       "      <td>Panama</td>\n",
       "      <td>0.185</td>\n",
       "      <td>20.60</td>\n",
       "    </tr>\n",
       "    <tr>\n",
       "      <th>21</th>\n",
       "      <td>Robin Vanderbemden</td>\n",
       "      <td>Belgium</td>\n",
       "      <td>0.142</td>\n",
       "      <td>20.70</td>\n",
       "    </tr>\n",
       "    <tr>\n",
       "      <th>22</th>\n",
       "      <td>Sydney Siame</td>\n",
       "      <td>Zambia</td>\n",
       "      <td>0.171</td>\n",
       "      <td>21.01</td>\n",
       "    </tr>\n",
       "    <tr>\n",
       "      <th>23</th>\n",
       "      <td>Gediminas Truskauskas</td>\n",
       "      <td>Lithuania</td>\n",
       "      <td>0.140</td>\n",
       "      <td>21.02</td>\n",
       "    </tr>\n",
       "    <tr>\n",
       "      <th>24</th>\n",
       "      <td>Steven Müller</td>\n",
       "      <td>Germany</td>\n",
       "      <td>0.156</td>\n",
       "      <td>21.08</td>\n",
       "    </tr>\n",
       "    <tr>\n",
       "      <th>25</th>\n",
       "      <td>Aaron Brown</td>\n",
       "      <td>Canada</td>\n",
       "      <td>0.157</td>\n",
       "      <td>20.38</td>\n",
       "    </tr>\n",
       "    <tr>\n",
       "      <th>26</th>\n",
       "      <td>Joseph Fahnbulleh</td>\n",
       "      <td>Liberia</td>\n",
       "      <td>0.147</td>\n",
       "      <td>20.46</td>\n",
       "    </tr>\n",
       "    <tr>\n",
       "      <th>27</th>\n",
       "      <td>William Reais</td>\n",
       "      <td>Switzerland</td>\n",
       "      <td>0.147</td>\n",
       "      <td>20.51</td>\n",
       "    </tr>\n",
       "    <tr>\n",
       "      <th>28</th>\n",
       "      <td>Serhiy Smelyk</td>\n",
       "      <td>Ukraine</td>\n",
       "      <td>0.144</td>\n",
       "      <td>20.53</td>\n",
       "    </tr>\n",
       "    <tr>\n",
       "      <th>29</th>\n",
       "      <td>Antonio Infantino</td>\n",
       "      <td>Italy</td>\n",
       "      <td>0.132</td>\n",
       "      <td>20.90</td>\n",
       "    </tr>\n",
       "    <tr>\n",
       "      <th>30</th>\n",
       "      <td>Lucas Vilar</td>\n",
       "      <td>Brazil</td>\n",
       "      <td>0.171</td>\n",
       "      <td>21.31</td>\n",
       "    </tr>\n",
       "    <tr>\n",
       "      <th>31</th>\n",
       "      <td>Muhd Noor Firdaus Ar-Rasyid</td>\n",
       "      <td>Brunei</td>\n",
       "      <td>0.174</td>\n",
       "      <td>21.83</td>\n",
       "    </tr>\n",
       "    <tr>\n",
       "      <th>32</th>\n",
       "      <td>Kenneth Bednarek</td>\n",
       "      <td>United States</td>\n",
       "      <td>0.184</td>\n",
       "      <td>20.01</td>\n",
       "    </tr>\n",
       "    <tr>\n",
       "      <th>33</th>\n",
       "      <td>Yancarlos Martínez</td>\n",
       "      <td>Dominican Republic</td>\n",
       "      <td>0.164</td>\n",
       "      <td>20.17</td>\n",
       "    </tr>\n",
       "    <tr>\n",
       "      <th>34</th>\n",
       "      <td>Fausto Desalu</td>\n",
       "      <td>Italy</td>\n",
       "      <td>0.131</td>\n",
       "      <td>20.29</td>\n",
       "    </tr>\n",
       "    <tr>\n",
       "      <th>35</th>\n",
       "      <td>Xie Zhenye</td>\n",
       "      <td>China</td>\n",
       "      <td>0.159</td>\n",
       "      <td>20.34</td>\n",
       "    </tr>\n",
       "    <tr>\n",
       "      <th>36</th>\n",
       "      <td>Nethaneel Mitchell-Blake</td>\n",
       "      <td>Great Britain</td>\n",
       "      <td>0.163</td>\n",
       "      <td>20.56</td>\n",
       "    </tr>\n",
       "    <tr>\n",
       "      <th>37</th>\n",
       "      <td>Marcus Lawler</td>\n",
       "      <td>Ireland</td>\n",
       "      <td>0.145</td>\n",
       "      <td>20.73</td>\n",
       "    </tr>\n",
       "    <tr>\n",
       "      <th>38</th>\n",
       "      <td>Noah Lyles</td>\n",
       "      <td>United States</td>\n",
       "      <td>0.171</td>\n",
       "      <td>20.18</td>\n",
       "    </tr>\n",
       "    <tr>\n",
       "      <th>39</th>\n",
       "      <td>Sibusiso Matsenjwa</td>\n",
       "      <td>Eswatini</td>\n",
       "      <td>0.172</td>\n",
       "      <td>20.34</td>\n",
       "    </tr>\n",
       "    <tr>\n",
       "      <th>40</th>\n",
       "      <td>Joseph Amoah</td>\n",
       "      <td>Ghana</td>\n",
       "      <td>0.171</td>\n",
       "      <td>20.35</td>\n",
       "    </tr>\n",
       "    <tr>\n",
       "      <th>41</th>\n",
       "      <td>Clarence Munyai</td>\n",
       "      <td>South Africa</td>\n",
       "      <td>0.135</td>\n",
       "      <td>20.49</td>\n",
       "    </tr>\n",
       "    <tr>\n",
       "      <th>42</th>\n",
       "      <td>Leon Reid</td>\n",
       "      <td>Ireland</td>\n",
       "      <td>0.135</td>\n",
       "      <td>20.53</td>\n",
       "    </tr>\n",
       "    <tr>\n",
       "      <th>43</th>\n",
       "      <td>Brendon Rodney</td>\n",
       "      <td>Canada</td>\n",
       "      <td>0.150</td>\n",
       "      <td>20.60</td>\n",
       "    </tr>\n",
       "    <tr>\n",
       "      <th>44</th>\n",
       "      <td>Julian Forte</td>\n",
       "      <td>Jamaica</td>\n",
       "      <td>0.152</td>\n",
       "      <td>20.65</td>\n",
       "    </tr>\n",
       "    <tr>\n",
       "      <th>45</th>\n",
       "      <td>Noureddine Hadid</td>\n",
       "      <td>Lebanon</td>\n",
       "      <td>0.157</td>\n",
       "      <td>21.12</td>\n",
       "    </tr>\n",
       "  </tbody>\n",
       "</table>\n",
       "</div>"
      ],
      "text/plain": [
       "                       Athelete              Country  Reaction Time  \\\n",
       "0                 Rasheed Dwyer              Jamaica          0.163   \n",
       "1                Divine Oduduru              Nigeria          0.129   \n",
       "2               Anaso Jobodwana         South Africa          0.119   \n",
       "3                   Jorge Vides               Brazil          0.161   \n",
       "4                  Fodé Sissoko                 Mali          0.167   \n",
       "5                  Shōta Iizuka                Japan          0.148   \n",
       "6           José Andrés Salazar          El Salvador          0.145   \n",
       "7               Jereem Richards  Trinidad and Tobago          0.187   \n",
       "8             Shaun Maswanganyi         South Africa          0.142   \n",
       "9                 Taymir Burnet          Netherlands          0.137   \n",
       "10               Emmanuel Eseme             Cameroon          0.160   \n",
       "11                    Ján Volko             Slovakia          0.160   \n",
       "12       Abdul Hakim Sani Brown                Japan          0.149   \n",
       "13                 Femi Ogunode                Qatar          0.154   \n",
       "14                Ramil Guliyev               Turkey          0.158   \n",
       "15              Andre De Grasse               Canada          0.122   \n",
       "16                  Kyle Greaux  Trinidad and Tobago          0.149   \n",
       "17                Jun Yamashita                Japan          0.118   \n",
       "18      Aldemir da Silva Júnior               Brazil          0.160   \n",
       "19             Erriyon Knighton        United States          0.173   \n",
       "20                Alonso Edward               Panama          0.185   \n",
       "21           Robin Vanderbemden              Belgium          0.142   \n",
       "22                 Sydney Siame               Zambia          0.171   \n",
       "23        Gediminas Truskauskas            Lithuania          0.140   \n",
       "24                Steven Müller              Germany          0.156   \n",
       "25                  Aaron Brown               Canada          0.157   \n",
       "26            Joseph Fahnbulleh              Liberia          0.147   \n",
       "27                William Reais          Switzerland          0.147   \n",
       "28                Serhiy Smelyk              Ukraine          0.144   \n",
       "29            Antonio Infantino                Italy          0.132   \n",
       "30                  Lucas Vilar               Brazil          0.171   \n",
       "31  Muhd Noor Firdaus Ar-Rasyid               Brunei          0.174   \n",
       "32             Kenneth Bednarek        United States          0.184   \n",
       "33           Yancarlos Martínez   Dominican Republic          0.164   \n",
       "34                Fausto Desalu                Italy          0.131   \n",
       "35                   Xie Zhenye                China          0.159   \n",
       "36     Nethaneel Mitchell-Blake        Great Britain          0.163   \n",
       "37                Marcus Lawler              Ireland          0.145   \n",
       "38                   Noah Lyles        United States          0.171   \n",
       "39           Sibusiso Matsenjwa             Eswatini          0.172   \n",
       "40                 Joseph Amoah                Ghana          0.171   \n",
       "41              Clarence Munyai         South Africa          0.135   \n",
       "42                    Leon Reid              Ireland          0.135   \n",
       "43               Brendon Rodney               Canada          0.150   \n",
       "44                 Julian Forte              Jamaica          0.152   \n",
       "45             Noureddine Hadid              Lebanon          0.157   \n",
       "\n",
       "    Sprint Time  \n",
       "0         20.31  \n",
       "1         20.36  \n",
       "2         20.78  \n",
       "3         20.94  \n",
       "4         21.00  \n",
       "5         21.02  \n",
       "6         21.66  \n",
       "7         20.52  \n",
       "8         20.58  \n",
       "9         20.60  \n",
       "10        20.65  \n",
       "11        21.21  \n",
       "12        21.41  \n",
       "13        20.37  \n",
       "14        20.54  \n",
       "15        20.56  \n",
       "16        20.77  \n",
       "17        20.78  \n",
       "18        20.84  \n",
       "19        20.55  \n",
       "20        20.60  \n",
       "21        20.70  \n",
       "22        21.01  \n",
       "23        21.02  \n",
       "24        21.08  \n",
       "25        20.38  \n",
       "26        20.46  \n",
       "27        20.51  \n",
       "28        20.53  \n",
       "29        20.90  \n",
       "30        21.31  \n",
       "31        21.83  \n",
       "32        20.01  \n",
       "33        20.17  \n",
       "34        20.29  \n",
       "35        20.34  \n",
       "36        20.56  \n",
       "37        20.73  \n",
       "38        20.18  \n",
       "39        20.34  \n",
       "40        20.35  \n",
       "41        20.49  \n",
       "42        20.53  \n",
       "43        20.60  \n",
       "44        20.65  \n",
       "45        21.12  "
      ]
     },
     "execution_count": 288,
     "metadata": {},
     "output_type": "execute_result"
    }
   ],
   "source": [
    "h200m_df"
   ]
  },
  {
   "cell_type": "code",
   "execution_count": 289,
   "id": "9958476d-135e-4925-95d1-da993d6afbfc",
   "metadata": {},
   "outputs": [
    {
     "data": {
      "text/plain": [
       "0.1533913043478261"
      ]
     },
     "execution_count": 289,
     "metadata": {},
     "output_type": "execute_result"
    }
   ],
   "source": [
    "rtime_avg = h200m_df[\"Reaction Time\"].mean()\n",
    "rtime_avg ## This is the mean Reaction Time in 200m heats."
   ]
  },
  {
   "cell_type": "code",
   "execution_count": 290,
   "id": "622a8843-62d7-45f4-a25f-dd1a410714dd",
   "metadata": {},
   "outputs": [
    {
     "data": {
      "text/plain": [
       "20.69869565217391"
      ]
     },
     "execution_count": 290,
     "metadata": {},
     "output_type": "execute_result"
    }
   ],
   "source": [
    "stime_avg = h200m_df[\"Sprint Time\"].mean()\n",
    "stime_avg ##This is the mean Sprint Time in 200m heats."
   ]
  },
  {
   "cell_type": "markdown",
   "id": "eefb322d-1b7a-48f1-b589-9cb0a938fd51",
   "metadata": {},
   "source": [
    "### Sampling the Data (as we don't have the access to the entore dataset, rather only a small part of it and we have to reach a conclusion based on that small dataset.) "
   ]
  },
  {
   "cell_type": "code",
   "execution_count": 291,
   "id": "b81d4dd3-6457-4491-8a20-850ff591edb6",
   "metadata": {},
   "outputs": [],
   "source": [
    "rtime200m= h200m_df['Reaction Time']"
   ]
  },
  {
   "cell_type": "code",
   "execution_count": 292,
   "id": "c199a713-eccb-4000-b4be-77f9454682b2",
   "metadata": {},
   "outputs": [],
   "source": [
    "def collect_samples(data,n_samples,n_times):\n",
    "    avgs=np.zeros(n_times)\n",
    "    for i in range (n_times):\n",
    "        sample=np.random.choice(data,n_samples,replace=False)\n",
    "        avgs[i]=np.mean(sample)\n",
    "    return avgs"
   ]
  },
  {
   "cell_type": "code",
   "execution_count": 293,
   "id": "ba7ff8bc-53b4-4bf7-b1f2-9ec7a5267b68",
   "metadata": {},
   "outputs": [],
   "source": [
    "avgs=collect_samples(rtime200m,25,10000)"
   ]
  },
  {
   "cell_type": "code",
   "execution_count": 294,
   "id": "65e958cf-3eb5-4bc3-bbd4-f8591b7a6368",
   "metadata": {},
   "outputs": [
    {
     "data": {
      "image/png": "[encoded data removed]",
      "text/plain": [
       "<Figure size 432x288 with 1 Axes>"
      ]
     },
     "metadata": {
      "needs_background": "light"
     },
     "output_type": "display_data"
    }
   ],
   "source": [
    "xs = np.linspace(0.140,0.165, 40)\n",
    "mean_xbar = np.mean(rtime200m)\n",
    "std_xbar = np.std(rtime200m, ddof=1)/np.sqrt(40) # 40 is the sample size \n",
    "ys = stats.norm.pdf(xs,mean_xbar,std_xbar)\n",
    "\n",
    "plt.hist(avgs,bins=20,density=True)\n",
    "plt.ylabel(\"Distribution\")\n",
    "plt.xlabel(\"Average Reaction Time\")\n",
    "plt.plot(xs,ys,'orange')\n",
    "plt.show()"
   ]
  },
  {
   "cell_type": "markdown",
   "id": "ba1df4b1-e40c-4443-9fb0-4540a1db9df9",
   "metadata": {},
   "source": [
    "So, we can clearly see that the averages of the reaction time which in this case is our random variable resembles a gaussian distribution. "
   ]
  },
  {
   "cell_type": "code",
   "execution_count": 295,
   "id": "6ace8fa2-87f1-41e8-ba76-56bcdbbbb5f6",
   "metadata": {},
   "outputs": [
    {
     "data": {
      "image/png": "[encoded data removed]",
      "text/plain": [
       "<Figure size 432x288 with 1 Axes>"
      ]
     },
     "metadata": {
      "needs_background": "light"
     },
     "output_type": "display_data"
    }
   ],
   "source": [
    "stime200m= h200m_df['Sprint Time']\n",
    "stime200m\n",
    "collect_samples(stime200m,25,10000)\n",
    "avgs=collect_samples(stime200m,25,10000)\n",
    "plt.hist(avgs,bins=20, density=True)\n",
    "xs = np.linspace(20.5,20.9, 40)\n",
    "mean_xbar = np.mean(stime200m)\n",
    "std_xbar = np.std(stime200m, ddof=1)/np.sqrt(40) # 40 is the sample size \n",
    "ys = stats.norm.pdf(xs,mean_xbar,std_xbar)\n",
    "plt.ylabel(\"Distribution\")\n",
    "plt.xlabel(\"Average Sprint Time\")\n",
    "plt.plot(xs,ys,'red')\n",
    "plt.show()"
   ]
  },
  {
   "cell_type": "markdown",
   "id": "6ce9a580-9442-4c15-a043-1cbc4596ec9a",
   "metadata": {},
   "source": [
    "So, we can clearly see that the averages of the sprint time which in this case is our random variable resembles a gaussian distribution. "
   ]
  },
  {
   "cell_type": "code",
   "execution_count": 296,
   "id": "e6846be3-8e33-48be-88e1-592ad7219383",
   "metadata": {},
   "outputs": [],
   "source": [
    "def compute_CI_95_mean(dataset, n_samples):\n",
    "    sample = np.random.choice(dataset, n_samples, replace=False)\n",
    "    sample_mean = np.mean(sample)\n",
    "    sample_std = np.std(sample, ddof=1)\n",
    "    z95 = stats.norm.ppf(1 - 0.025)\n",
    "    ci_lo = sample_mean - z95*sample_std/np.sqrt(n_samples)\n",
    "    ci_hi = sample_mean + z95*sample_std/np.sqrt(n_samples)\n",
    "    return ci_lo, ci_hi"
   ]
  },
  {
   "cell_type": "code",
   "execution_count": 297,
   "id": "085165b8-aaf9-4938-a69f-db2a49bc867e",
   "metadata": {},
   "outputs": [
    {
     "data": {
      "text/plain": [
       "(0.1495753154125543, 0.1631446845874457)"
      ]
     },
     "execution_count": 297,
     "metadata": {},
     "output_type": "execute_result"
    }
   ],
   "source": [
    "compute_CI_95_mean(rtime200m,25) ## This is the 95% Confidence Interval for reaction time.  "
   ]
  },
  {
   "cell_type": "code",
   "execution_count": 298,
   "id": "4909df3e-cfaf-4a28-8624-5d11ccb25867",
   "metadata": {},
   "outputs": [
    {
     "data": {
      "text/plain": [
       "(20.55495572727213, 20.81704427272787)"
      ]
     },
     "execution_count": 298,
     "metadata": {},
     "output_type": "execute_result"
    }
   ],
   "source": [
    "compute_CI_95_mean(stime200m,25) ## This is the 95% Confidence Interval for sprint time."
   ]
  },
  {
   "cell_type": "markdown",
   "id": "4e459f34-6bca-48b9-bdd5-fe543175b293",
   "metadata": {},
   "source": [
    "### Regression: trying to model the relationship"
   ]
  },
  {
   "cell_type": "code",
   "execution_count": 299,
   "id": "6f357c47-56dd-4925-9408-68355e2d6d0b",
   "metadata": {},
   "outputs": [
    {
     "data": {
      "image/png": "[encoded data removed]",
      "text/plain": [
       "<Figure size 432x288 with 1 Axes>"
      ]
     },
     "metadata": {
      "needs_background": "light"
     },
     "output_type": "display_data"
    }
   ],
   "source": [
    "plt.plot(rtime200m,stime200m,'bo')\n",
    "c1,c0=np.polyfit(rtime200m,stime200m,deg=1)\n",
    "plt.plot(rtime200m,c0 + c1*rtime200m,'k-',lw=1)\n",
    "plt.xlabel(\"Reaction Time Averages\")\n",
    "plt.ylabel(\"Sprint Time Averages\");"
   ]
  },
  {
   "cell_type": "code",
   "execution_count": 300,
   "id": "0fa312a1-0b62-4925-b123-c07ebb938acd",
   "metadata": {},
   "outputs": [],
   "source": [
    "def compute_R2(x,y):\n",
    "    b1,b0=np.polyfit(x,y,deg=1)\n",
    "    y_bar=np.mean(y)\n",
    "    y_hat=b0+b1*x\n",
    "    sst=np.sum((y-y_bar)**2)\n",
    "    ssr=np.sum((y_hat-y_bar)**2)\n",
    "    r2=ssr/sst\n",
    "    return r2"
   ]
  },
  {
   "cell_type": "code",
   "execution_count": 301,
   "id": "92151242-da32-4332-b3fe-ae8314b7689a",
   "metadata": {},
   "outputs": [
    {
     "data": {
      "text/plain": [
       "0.0009962367880899771"
      ]
     },
     "execution_count": 301,
     "metadata": {},
     "output_type": "execute_result"
    }
   ],
   "source": [
    "compute_R2(rtime200m,stime200m)"
   ]
  },
  {
   "cell_type": "markdown",
   "id": "5cd3e12a-05b6-480c-a14c-84841b226a41",
   "metadata": {},
   "source": [
    "Oh No! This is too bad of a fit, we can see that the coefficient of co-relation (R^2) is around 0.001. Therefore, we can say that there is no such \"LINEAR\" relationship between reaction time and sprint time of an athelete. Now, we will analyze the dataset from Semifinals of 200m (Tokyo Olympics.)"
   ]
  },
  {
   "cell_type": "markdown",
   "id": "7d91ef2f-3d90-4fe2-b601-2bc5e6d08c47",
   "metadata": {},
   "source": [
    "### So, let's import the Semi 200m dataset."
   ]
  },
  {
   "cell_type": "code",
   "execution_count": 302,
   "id": "472ec682-29f8-40bf-b575-25f27648269c",
   "metadata": {},
   "outputs": [],
   "source": [
    "semi200m_df=pd.read_csv('semi200m.csv', header= None , sep = ',')"
   ]
  },
  {
   "cell_type": "code",
   "execution_count": 303,
   "id": "44502eff-7464-4902-b45c-2b9f531294b5",
   "metadata": {},
   "outputs": [
    {
     "data": {
      "text/html": [
       "<div>\n",
       "<style scoped>\n",
       "    .dataframe tbody tr th:only-of-type {\n",
       "        vertical-align: middle;\n",
       "    }\n",
       "\n",
       "    .dataframe tbody tr th {\n",
       "        vertical-align: top;\n",
       "    }\n",
       "\n",
       "    .dataframe thead th {\n",
       "        text-align: right;\n",
       "    }\n",
       "</style>\n",
       "<table border=\"1\" class=\"dataframe\">\n",
       "  <thead>\n",
       "    <tr style=\"text-align: right;\">\n",
       "      <th></th>\n",
       "      <th>Athelete</th>\n",
       "      <th>Country</th>\n",
       "      <th>Reaction Time</th>\n",
       "      <th>Sprint Time</th>\n",
       "    </tr>\n",
       "  </thead>\n",
       "  <tbody>\n",
       "    <tr>\n",
       "      <th>0</th>\n",
       "      <td>Erriyon Knighton</td>\n",
       "      <td>United States</td>\n",
       "      <td>0.172</td>\n",
       "      <td>20.02</td>\n",
       "    </tr>\n",
       "    <tr>\n",
       "      <th>1</th>\n",
       "      <td>Rasheed Dwyer</td>\n",
       "      <td>Jamaica</td>\n",
       "      <td>0.141</td>\n",
       "      <td>20.13</td>\n",
       "    </tr>\n",
       "    <tr>\n",
       "      <th>2</th>\n",
       "      <td>Divine Oduduru</td>\n",
       "      <td>Nigeria</td>\n",
       "      <td>0.140</td>\n",
       "      <td>20.16</td>\n",
       "    </tr>\n",
       "    <tr>\n",
       "      <th>3</th>\n",
       "      <td>Joseph Paul Amoah</td>\n",
       "      <td>Ghana</td>\n",
       "      <td>0.168</td>\n",
       "      <td>20.27</td>\n",
       "    </tr>\n",
       "    <tr>\n",
       "      <th>4</th>\n",
       "      <td>Femi Ogunode</td>\n",
       "      <td>Qatar</td>\n",
       "      <td>0.160</td>\n",
       "      <td>20.34</td>\n",
       "    </tr>\n",
       "    <tr>\n",
       "      <th>5</th>\n",
       "      <td>Fausto Desalu</td>\n",
       "      <td>Italy</td>\n",
       "      <td>0.149</td>\n",
       "      <td>20.43</td>\n",
       "    </tr>\n",
       "    <tr>\n",
       "      <th>6</th>\n",
       "      <td>Xie Zhenye</td>\n",
       "      <td>China</td>\n",
       "      <td>0.154</td>\n",
       "      <td>20.45</td>\n",
       "    </tr>\n",
       "    <tr>\n",
       "      <th>7</th>\n",
       "      <td>Anaso Jobodwana</td>\n",
       "      <td>South Africa</td>\n",
       "      <td>0.151</td>\n",
       "      <td>20.88</td>\n",
       "    </tr>\n",
       "    <tr>\n",
       "      <th>8</th>\n",
       "      <td>Aaron Brown</td>\n",
       "      <td>Canada</td>\n",
       "      <td>0.151</td>\n",
       "      <td>19.99</td>\n",
       "    </tr>\n",
       "    <tr>\n",
       "      <th>9</th>\n",
       "      <td>Joseph Fahnbulleh</td>\n",
       "      <td>Liberia</td>\n",
       "      <td>0.140</td>\n",
       "      <td>19.99</td>\n",
       "    </tr>\n",
       "    <tr>\n",
       "      <th>10</th>\n",
       "      <td>Noah Lyles</td>\n",
       "      <td>United States</td>\n",
       "      <td>0.179</td>\n",
       "      <td>19.99</td>\n",
       "    </tr>\n",
       "    <tr>\n",
       "      <th>11</th>\n",
       "      <td>Yancarlos Martínez</td>\n",
       "      <td>Dominican Republic</td>\n",
       "      <td>0.141</td>\n",
       "      <td>20.24</td>\n",
       "    </tr>\n",
       "    <tr>\n",
       "      <th>12</th>\n",
       "      <td>William Reais</td>\n",
       "      <td>Switzerland</td>\n",
       "      <td>0.149</td>\n",
       "      <td>20.44</td>\n",
       "    </tr>\n",
       "    <tr>\n",
       "      <th>13</th>\n",
       "      <td>Clarence Munyai</td>\n",
       "      <td>South Africa</td>\n",
       "      <td>0.142</td>\n",
       "      <td>20.49</td>\n",
       "    </tr>\n",
       "    <tr>\n",
       "      <th>14</th>\n",
       "      <td>Robin Vanderbemden</td>\n",
       "      <td>Belgium</td>\n",
       "      <td>0.132</td>\n",
       "      <td>21.00</td>\n",
       "    </tr>\n",
       "    <tr>\n",
       "      <th>15</th>\n",
       "      <td>Andre De Grasse</td>\n",
       "      <td>Canada</td>\n",
       "      <td>0.139</td>\n",
       "      <td>19.73</td>\n",
       "    </tr>\n",
       "    <tr>\n",
       "      <th>16</th>\n",
       "      <td>Kenneth Bednarek</td>\n",
       "      <td>United States</td>\n",
       "      <td>0.176</td>\n",
       "      <td>19.83</td>\n",
       "    </tr>\n",
       "    <tr>\n",
       "      <th>17</th>\n",
       "      <td>Jereem Richards</td>\n",
       "      <td>Trinidad and Tobago</td>\n",
       "      <td>0.161</td>\n",
       "      <td>20.10</td>\n",
       "    </tr>\n",
       "    <tr>\n",
       "      <th>18</th>\n",
       "      <td>Shaun Maswanganyi</td>\n",
       "      <td>South Africa</td>\n",
       "      <td>0.151</td>\n",
       "      <td>20.18</td>\n",
       "    </tr>\n",
       "    <tr>\n",
       "      <th>19</th>\n",
       "      <td>Sibusiso Matsenjwa</td>\n",
       "      <td>Eswatini</td>\n",
       "      <td>0.158</td>\n",
       "      <td>20.22</td>\n",
       "    </tr>\n",
       "    <tr>\n",
       "      <th>20</th>\n",
       "      <td>Ramil Guliyev</td>\n",
       "      <td>Turkey</td>\n",
       "      <td>0.156</td>\n",
       "      <td>20.31</td>\n",
       "    </tr>\n",
       "    <tr>\n",
       "      <th>21</th>\n",
       "      <td>Leon Reid</td>\n",
       "      <td>Ireland</td>\n",
       "      <td>0.139</td>\n",
       "      <td>20.54</td>\n",
       "    </tr>\n",
       "    <tr>\n",
       "      <th>22</th>\n",
       "      <td>Taymir Burnet</td>\n",
       "      <td>Netherlands</td>\n",
       "      <td>0.126</td>\n",
       "      <td>20.90</td>\n",
       "    </tr>\n",
       "  </tbody>\n",
       "</table>\n",
       "</div>"
      ],
      "text/plain": [
       "              Athelete              Country  Reaction Time  Sprint Time\n",
       "0     Erriyon Knighton        United States          0.172        20.02\n",
       "1        Rasheed Dwyer              Jamaica          0.141        20.13\n",
       "2       Divine Oduduru              Nigeria          0.140        20.16\n",
       "3    Joseph Paul Amoah                Ghana          0.168        20.27\n",
       "4         Femi Ogunode                Qatar          0.160        20.34\n",
       "5        Fausto Desalu                Italy          0.149        20.43\n",
       "6           Xie Zhenye                China          0.154        20.45\n",
       "7      Anaso Jobodwana         South Africa          0.151        20.88\n",
       "8          Aaron Brown               Canada          0.151        19.99\n",
       "9    Joseph Fahnbulleh              Liberia          0.140        19.99\n",
       "10          Noah Lyles        United States          0.179        19.99\n",
       "11  Yancarlos Martínez   Dominican Republic          0.141        20.24\n",
       "12       William Reais          Switzerland          0.149        20.44\n",
       "13     Clarence Munyai         South Africa          0.142        20.49\n",
       "14  Robin Vanderbemden              Belgium          0.132        21.00\n",
       "15     Andre De Grasse               Canada          0.139        19.73\n",
       "16    Kenneth Bednarek        United States          0.176        19.83\n",
       "17     Jereem Richards  Trinidad and Tobago          0.161        20.10\n",
       "18   Shaun Maswanganyi         South Africa          0.151        20.18\n",
       "19  Sibusiso Matsenjwa             Eswatini          0.158        20.22\n",
       "20       Ramil Guliyev               Turkey          0.156        20.31\n",
       "21           Leon Reid              Ireland          0.139        20.54\n",
       "22       Taymir Burnet          Netherlands          0.126        20.90"
      ]
     },
     "execution_count": 303,
     "metadata": {},
     "output_type": "execute_result"
    }
   ],
   "source": [
    "semi200m_df.columns=['Athelete','Country','Reaction Time','Sprint Time']\n",
    "semi200m_df"
   ]
  },
  {
   "cell_type": "code",
   "execution_count": 304,
   "id": "425a7e12-ba1d-45b0-a3f7-7f9154592373",
   "metadata": {},
   "outputs": [
    {
     "data": {
      "text/plain": [
       "20.28826086956522"
      ]
     },
     "execution_count": 304,
     "metadata": {},
     "output_type": "execute_result"
    }
   ],
   "source": [
    "stime_avg = semi200m_df[\"Sprint Time\"].mean()\n",
    "stime_avg ##This is the mean Sprint Time in 200m semis."
   ]
  },
  {
   "cell_type": "code",
   "execution_count": 305,
   "id": "eb72f974-7bf8-44e9-b0d7-86c9fd634d21",
   "metadata": {},
   "outputs": [
    {
     "data": {
      "text/plain": [
       "0.15108695652173915"
      ]
     },
     "execution_count": 305,
     "metadata": {},
     "output_type": "execute_result"
    }
   ],
   "source": [
    "rtime_avg = semi200m_df[\"Reaction Time\"].mean()\n",
    "rtime_avg ## This is the mean Reaction Time in 200m semis."
   ]
  },
  {
   "cell_type": "code",
   "execution_count": 306,
   "id": "225212bc-5755-40b7-9fec-834fdc613d4c",
   "metadata": {},
   "outputs": [],
   "source": [
    "rtimesemi200m= semi200m_df['Reaction Time']"
   ]
  },
  {
   "cell_type": "code",
   "execution_count": 307,
   "id": "b7464cf8-5af5-45f0-bd5d-e4d2613301ce",
   "metadata": {},
   "outputs": [],
   "source": [
    "stimesemi200m= semi200m_df['Sprint Time']"
   ]
  },
  {
   "cell_type": "markdown",
   "id": "027a2da0-3ba4-428d-8368-f1f61fa6f97a",
   "metadata": {},
   "source": [
    "### Let's plot the average reaction time."
   ]
  },
  {
   "cell_type": "code",
   "execution_count": 308,
   "id": "f32320b4-ef51-4ed8-a126-7212c50af6f9",
   "metadata": {},
   "outputs": [
    {
     "data": {
      "image/png": "[encoded data removed]",
      "text/plain": [
       "<Figure size 432x288 with 1 Axes>"
      ]
     },
     "metadata": {
      "needs_background": "light"
     },
     "output_type": "display_data"
    }
   ],
   "source": [
    "collect_samples(rtimesemi200m,10,10000)\n",
    "avgs=collect_samples(rtimesemi200m,10,10000)\n",
    "plt.hist(avgs,bins=20, density=True)\n",
    "xs = np.linspace(0.140,0.165, 40)\n",
    "mean_xbar = np.mean(rtimesemi200m)\n",
    "std_xbar = np.std(rtimesemi200m, ddof=1)/np.sqrt(40) # 40 is the sample size \n",
    "ys = stats.norm.pdf(xs,mean_xbar,std_xbar)\n",
    "plt.ylabel(\"Distribution\")\n",
    "plt.xlabel(\"Average Reaction Time(Semis 200m)\")\n",
    "plt.plot(xs,ys,'k')\n",
    "plt.show()"
   ]
  },
  {
   "cell_type": "markdown",
   "id": "2bb50868-ee00-457f-bfa2-6c03a3d0c6c6",
   "metadata": {},
   "source": [
    "So, we can clearly see that the averages of the reaction time which in this case is our random variable resembles a gaussian distribution. "
   ]
  },
  {
   "cell_type": "markdown",
   "id": "79f7a36b-3a42-4114-9fa0-3964a3e60fe3",
   "metadata": {},
   "source": [
    "### Now, plotting the average sprint time."
   ]
  },
  {
   "cell_type": "code",
   "execution_count": 309,
   "id": "0483eb95-399b-43b6-ae6a-ea46b6dc803d",
   "metadata": {},
   "outputs": [
    {
     "data": {
      "image/png": "[encoded data removed]",
      "text/plain": [
       "<Figure size 432x288 with 1 Axes>"
      ]
     },
     "metadata": {
      "needs_background": "light"
     },
     "output_type": "display_data"
    }
   ],
   "source": [
    "collect_samples(stimesemi200m,10,10000)\n",
    "avgs=collect_samples(stimesemi200m,10,10000)\n",
    "plt.hist(avgs,bins=20, density=True)\n",
    "xs = np.linspace(20.0,20.6, 40)\n",
    "mean_xbar = np.mean(stimesemi200m)\n",
    "std_xbar = np.std(stimesemi200m, ddof=1)/np.sqrt(40) # 40 is the sample size \n",
    "ys = stats.norm.pdf(xs,mean_xbar,std_xbar)\n",
    "plt.ylabel(\"Distribution\")\n",
    "plt.xlabel(\"Average Sprint Time(Semis 200m)\")\n",
    "plt.plot(xs,ys,'k')\n",
    "plt.show()"
   ]
  },
  {
   "cell_type": "markdown",
   "id": "9182a4b3-b596-48ae-9b0d-454df0d3b1e7",
   "metadata": {},
   "source": [
    "So, we can clearly see that the averages of the sprint time which in this case is our random variable resembles a gaussian distribution. "
   ]
  },
  {
   "cell_type": "code",
   "execution_count": 310,
   "id": "56116160-d056-4a33-82cb-6b8900037fe1",
   "metadata": {},
   "outputs": [
    {
     "data": {
      "text/plain": [
       "(0.1447134020310966, 0.1562865979689034)"
      ]
     },
     "execution_count": 310,
     "metadata": {},
     "output_type": "execute_result"
    }
   ],
   "source": [
    "compute_CI_95_mean(rtimesemi200m,10) ##This is the 95% confidence interval of reaction time for semis200m"
   ]
  },
  {
   "cell_type": "code",
   "execution_count": 311,
   "id": "5cabbed9-c587-4d00-8dac-3d2cd41856ad",
   "metadata": {},
   "outputs": [
    {
     "data": {
      "text/plain": [
       "(20.04639987144236, 20.457600128557644)"
      ]
     },
     "execution_count": 311,
     "metadata": {},
     "output_type": "execute_result"
    }
   ],
   "source": [
    "compute_CI_95_mean(stimesemi200m,10) ##This is the 95% confidence interval of sprint time for semis200m"
   ]
  },
  {
   "cell_type": "markdown",
   "id": "b0f90cc6-ef6e-4b41-9a7b-0a9ca5e2baf1",
   "metadata": {},
   "source": [
    "### Again, let's try to model their relationship using linear regression."
   ]
  },
  {
   "cell_type": "code",
   "execution_count": 312,
   "id": "0e577ba1-2b5d-4b89-a464-3bef1351f1f3",
   "metadata": {},
   "outputs": [
    {
     "data": {
      "image/png": "[encoded data removed]",
      "text/plain": [
       "<Figure size 432x288 with 1 Axes>"
      ]
     },
     "metadata": {
      "needs_background": "light"
     },
     "output_type": "display_data"
    }
   ],
   "source": [
    "plt.plot(rtimesemi200m,stimesemi200m,'bo')\n",
    "c1,c0=np.polyfit(rtimesemi200m,stimesemi200m,deg=1)\n",
    "plt.plot(rtimesemi200m,c0 + c1*rtimesemi200m,'k-',lw=1)\n",
    "plt.xlabel(\"Reaction Time Averages(Semis 200m)\")\n",
    "plt.ylabel(\"Sprint Time Averages(Semis 200m)\");"
   ]
  },
  {
   "cell_type": "code",
   "execution_count": 313,
   "id": "126a0906-7bf8-4db2-892b-b60ba6f737d9",
   "metadata": {},
   "outputs": [
    {
     "data": {
      "text/plain": [
       "0.2300523712565407"
      ]
     },
     "execution_count": 313,
     "metadata": {},
     "output_type": "execute_result"
    }
   ],
   "source": [
    "compute_R2(rtimesemi200m,stimesemi200m)"
   ]
  },
  {
   "cell_type": "markdown",
   "id": "5713604e-d1ff-41db-bdef-83f2fd23da5f",
   "metadata": {},
   "source": [
    "### Hmmm, interesting, we can see that as we analyze the semifinal dataset, the co-relation coefficient increases from 0.001 in heats 200m dataset to 0.23 in Semis dataset. Will this increase even more for the Finals dataset , let's find out.."
   ]
  },
  {
   "cell_type": "markdown",
   "id": "3ac9075e-df0d-4a45-b4c4-8625749f259c",
   "metadata": {},
   "source": [
    "### Importing the Finals dataset"
   ]
  },
  {
   "cell_type": "code",
   "execution_count": 314,
   "id": "2c6c5cbe-25e4-4f2b-acb7-95d635858801",
   "metadata": {},
   "outputs": [],
   "source": [
    "finals200m_df=pd.read_csv('final200m.csv', header= None , sep = ',')"
   ]
  },
  {
   "cell_type": "code",
   "execution_count": 315,
   "id": "7977d07c-7020-4baf-9fcd-a65b5e6507be",
   "metadata": {},
   "outputs": [
    {
     "data": {
      "text/html": [
       "<div>\n",
       "<style scoped>\n",
       "    .dataframe tbody tr th:only-of-type {\n",
       "        vertical-align: middle;\n",
       "    }\n",
       "\n",
       "    .dataframe tbody tr th {\n",
       "        vertical-align: top;\n",
       "    }\n",
       "\n",
       "    .dataframe thead th {\n",
       "        text-align: right;\n",
       "    }\n",
       "</style>\n",
       "<table border=\"1\" class=\"dataframe\">\n",
       "  <thead>\n",
       "    <tr style=\"text-align: right;\">\n",
       "      <th></th>\n",
       "      <th>Athelete</th>\n",
       "      <th>Country</th>\n",
       "      <th>Reaction Time</th>\n",
       "      <th>Sprint Time</th>\n",
       "    </tr>\n",
       "  </thead>\n",
       "  <tbody>\n",
       "    <tr>\n",
       "      <th>0</th>\n",
       "      <td>Andre De Grasse</td>\n",
       "      <td>Canada</td>\n",
       "      <td>0.135</td>\n",
       "      <td>19.62</td>\n",
       "    </tr>\n",
       "    <tr>\n",
       "      <th>1</th>\n",
       "      <td>Kenneth Bednarek</td>\n",
       "      <td>United States</td>\n",
       "      <td>0.165</td>\n",
       "      <td>19.68</td>\n",
       "    </tr>\n",
       "    <tr>\n",
       "      <th>2</th>\n",
       "      <td>Noah Lyles</td>\n",
       "      <td>United States</td>\n",
       "      <td>0.151</td>\n",
       "      <td>19.74</td>\n",
       "    </tr>\n",
       "    <tr>\n",
       "      <th>3</th>\n",
       "      <td>Erriyon Knighton</td>\n",
       "      <td>United States</td>\n",
       "      <td>0.159</td>\n",
       "      <td>19.93</td>\n",
       "    </tr>\n",
       "    <tr>\n",
       "      <th>4</th>\n",
       "      <td>Joseph Fahnbulleh</td>\n",
       "      <td>Liberia</td>\n",
       "      <td>0.141</td>\n",
       "      <td>19.98</td>\n",
       "    </tr>\n",
       "    <tr>\n",
       "      <th>5</th>\n",
       "      <td>Aaron Brown</td>\n",
       "      <td>Canada</td>\n",
       "      <td>0.157</td>\n",
       "      <td>20.20</td>\n",
       "    </tr>\n",
       "    <tr>\n",
       "      <th>6</th>\n",
       "      <td>Rasheed Dwyer</td>\n",
       "      <td>Jamaica</td>\n",
       "      <td>0.148</td>\n",
       "      <td>20.21</td>\n",
       "    </tr>\n",
       "    <tr>\n",
       "      <th>7</th>\n",
       "      <td>Jereem Richards</td>\n",
       "      <td>Trinidad and Tobago</td>\n",
       "      <td>0.149</td>\n",
       "      <td>20.39</td>\n",
       "    </tr>\n",
       "  </tbody>\n",
       "</table>\n",
       "</div>"
      ],
      "text/plain": [
       "            Athelete              Country  Reaction Time  Sprint Time\n",
       "0    Andre De Grasse               Canada          0.135        19.62\n",
       "1   Kenneth Bednarek        United States          0.165        19.68\n",
       "2         Noah Lyles        United States          0.151        19.74\n",
       "3   Erriyon Knighton        United States          0.159        19.93\n",
       "4  Joseph Fahnbulleh              Liberia          0.141        19.98\n",
       "5        Aaron Brown               Canada          0.157        20.20\n",
       "6      Rasheed Dwyer              Jamaica          0.148        20.21\n",
       "7    Jereem Richards  Trinidad and Tobago          0.149        20.39"
      ]
     },
     "execution_count": 315,
     "metadata": {},
     "output_type": "execute_result"
    }
   ],
   "source": [
    "finals200m_df.columns=['Athelete','Country','Reaction Time','Sprint Time']\n",
    "finals200m_df"
   ]
  },
  {
   "cell_type": "code",
   "execution_count": 316,
   "id": "4e445e11-834e-4b53-8521-4d87c025d0d9",
   "metadata": {},
   "outputs": [
    {
     "data": {
      "text/plain": [
       "19.96875"
      ]
     },
     "execution_count": 316,
     "metadata": {},
     "output_type": "execute_result"
    }
   ],
   "source": [
    "stime_avg = finals200m_df[\"Sprint Time\"].mean()\n",
    "stime_avg ##This is the mean Sprint Time in 200m finals."
   ]
  },
  {
   "cell_type": "code",
   "execution_count": 317,
   "id": "e2b038e8-e5de-427f-bb97-10f277634600",
   "metadata": {},
   "outputs": [
    {
     "data": {
      "text/plain": [
       "0.1533913043478261"
      ]
     },
     "execution_count": 317,
     "metadata": {},
     "output_type": "execute_result"
    }
   ],
   "source": [
    "rtime_avg = h200m_df[\"Reaction Time\"].mean()\n",
    "rtime_avg ##This is the mean Reaction Time in 200m heats."
   ]
  },
  {
   "cell_type": "code",
   "execution_count": 318,
   "id": "b1accb64-68da-4ae9-9942-e8dc86ff477c",
   "metadata": {},
   "outputs": [],
   "source": [
    "rtimefinals200m= finals200m_df['Reaction Time']"
   ]
  },
  {
   "cell_type": "code",
   "execution_count": 319,
   "id": "516e4563-e95f-40d1-bb6f-d705620539b0",
   "metadata": {},
   "outputs": [],
   "source": [
    "stimefinals200m= finals200m_df['Sprint Time']"
   ]
  },
  {
   "cell_type": "markdown",
   "id": "c8add4ba-e26e-4168-8bb2-282529e6ead7",
   "metadata": {},
   "source": [
    "### Let's plot the average reaction time for the Finals 200m."
   ]
  },
  {
   "cell_type": "code",
   "execution_count": 320,
   "id": "1929bd58-f278-43b9-ad49-43085ec5a988",
   "metadata": {},
   "outputs": [
    {
     "data": {
      "image/png": "[encoded data removed]",
      "text/plain": [
       "<Figure size 432x288 with 1 Axes>"
      ]
     },
     "metadata": {
      "needs_background": "light"
     },
     "output_type": "display_data"
    }
   ],
   "source": [
    "collect_samples(rtimefinals200m,5,10000)\n",
    "avgs=collect_samples(rtimefinals200m,5,10000)\n",
    "plt.hist(avgs,bins=20, density=True)\n",
    "xs = np.linspace(0.143,0.160, 40)\n",
    "mean_xbar = np.mean(rtimefinals200m)\n",
    "std_xbar = np.std(rtimefinals200m, ddof=1)/np.sqrt(40) # 40 is the sample size \n",
    "ys = stats.norm.pdf(xs,mean_xbar,std_xbar)\n",
    "plt.ylabel(\"Distribution\")\n",
    "plt.xlabel(\"Average Reaction Time(Finals 200m)\")\n",
    "plt.plot(xs,ys,'red')\n",
    "plt.show()"
   ]
  },
  {
   "cell_type": "markdown",
   "id": "45464a39-fce6-4c70-a2b0-8b9767f20271",
   "metadata": {},
   "source": [
    "So, we can clearly see that the averages of the reaction time which in this case is our random variable resembles a gaussian distribution. "
   ]
  },
  {
   "cell_type": "markdown",
   "id": "b799b9c7-0b2a-439c-be06-e41cb4d5656c",
   "metadata": {},
   "source": [
    "### Now, let's do the same for average Sprint time."
   ]
  },
  {
   "cell_type": "code",
   "execution_count": 321,
   "id": "d1efbb12-ccaf-4b4c-a202-55619e859f7a",
   "metadata": {},
   "outputs": [
    {
     "data": {
      "image/png": "[encoded data removed]",
      "text/plain": [
       "<Figure size 432x288 with 1 Axes>"
      ]
     },
     "metadata": {
      "needs_background": "light"
     },
     "output_type": "display_data"
    }
   ],
   "source": [
    "collect_samples(stimefinals200m,5,10000)\n",
    "avgs=collect_samples(stimefinals200m,5,10000)\n",
    "plt.hist(avgs,bins=20, density=True)\n",
    "xs = np.linspace(19.7,20.2, 40)\n",
    "mean_xbar = np.mean(stimefinals200m)\n",
    "std_xbar = np.std(stimefinals200m, ddof=1)/np.sqrt(40) # 40 is the sample size \n",
    "ys = stats.norm.pdf(xs,mean_xbar,std_xbar)\n",
    "plt.ylabel(\"Distribution\")\n",
    "plt.xlabel(\"Average Sprint Time(Finals 200m)\")\n",
    "plt.plot(xs,ys,'red')\n",
    "plt.show()"
   ]
  },
  {
   "cell_type": "markdown",
   "id": "af8b7d1f-e232-4f05-ad9c-1f3ac74ae359",
   "metadata": {},
   "source": [
    "So, we can clearly see that the averages of the sprint time which in this case is our random variable resembles a gaussian distribution. "
   ]
  },
  {
   "cell_type": "markdown",
   "id": "d07ef5e9-46b5-43d0-89e3-3f296df8bcd9",
   "metadata": {},
   "source": [
    "### Finally, let's try to model the relation between reaction time and sprint time for Finals 200m."
   ]
  },
  {
   "cell_type": "code",
   "execution_count": 322,
   "id": "5eb6913c-66cf-44e9-bca4-2da87e38cb35",
   "metadata": {},
   "outputs": [
    {
     "data": {
      "image/png": "[encoded data removed]",
      "text/plain": [
       "<Figure size 432x288 with 1 Axes>"
      ]
     },
     "metadata": {
      "needs_background": "light"
     },
     "output_type": "display_data"
    }
   ],
   "source": [
    "plt.plot(rtimefinals200m,stimefinals200m,'bo')\n",
    "c1,c0=np.polyfit(rtimefinals200m,stimefinals200m,deg=1)\n",
    "plt.plot(rtimefinals200m,c0 + c1*rtimefinals200m,'k-',lw=1)\n",
    "plt.xlabel(\"Reaction Time Averages(Finals 200m)\")\n",
    "plt.ylabel(\"Sprint Time Averages(Finals 200m)\");"
   ]
  },
  {
   "cell_type": "code",
   "execution_count": 323,
   "id": "6c9036dd-3a5f-4a28-8ae3-2683b2f22257",
   "metadata": {},
   "outputs": [
    {
     "data": {
      "text/plain": [
       "0.0024090590731444934"
      ]
     },
     "execution_count": 323,
     "metadata": {},
     "output_type": "execute_result"
    }
   ],
   "source": [
    "compute_R2(rtimefinals200m,stimefinals200m)"
   ]
  },
  {
   "cell_type": "markdown",
   "id": "5cea1f40-cf3c-4ec9-b9a8-9d41c4412717",
   "metadata": {},
   "source": [
    "So, this is not going the way we expected it to be , this is due to the fact that the sample size for finals is less than that of heats and semis, so we will get some unexpected results."
   ]
  },
  {
   "cell_type": "markdown",
   "id": "a5d831ac-07c3-457a-889f-8e74955f45b1",
   "metadata": {},
   "source": [
    "### Now, let's do the same analysis for the 400m (heats,semis and finals)"
   ]
  },
  {
   "cell_type": "code",
   "execution_count": 227,
   "id": "ffc44da3-cef5-421f-90cb-61ce3cfec266",
   "metadata": {},
   "outputs": [],
   "source": [
    "h400m_df=pd.read_csv('heat400m.csv', header= None , sep = ',')"
   ]
  },
  {
   "cell_type": "code",
   "execution_count": 228,
   "id": "8d0fe34c-d57b-4e80-a930-44a7d6d89885",
   "metadata": {},
   "outputs": [
    {
     "data": {
      "text/html": [
       "<div>\n",
       "<style scoped>\n",
       "    .dataframe tbody tr th:only-of-type {\n",
       "        vertical-align: middle;\n",
       "    }\n",
       "\n",
       "    .dataframe tbody tr th {\n",
       "        vertical-align: top;\n",
       "    }\n",
       "\n",
       "    .dataframe thead th {\n",
       "        text-align: right;\n",
       "    }\n",
       "</style>\n",
       "<table border=\"1\" class=\"dataframe\">\n",
       "  <thead>\n",
       "    <tr style=\"text-align: right;\">\n",
       "      <th></th>\n",
       "      <th>Athelete</th>\n",
       "      <th>Country</th>\n",
       "      <th>Reaction Time</th>\n",
       "      <th>Sprint Time</th>\n",
       "    </tr>\n",
       "  </thead>\n",
       "  <tbody>\n",
       "    <tr>\n",
       "      <th>0</th>\n",
       "      <td>Isaac Makwala</td>\n",
       "      <td>Botswana</td>\n",
       "      <td>0.197</td>\n",
       "      <td>44.86</td>\n",
       "    </tr>\n",
       "    <tr>\n",
       "      <th>1</th>\n",
       "      <td>Kirani James</td>\n",
       "      <td>Grenada</td>\n",
       "      <td>0.160</td>\n",
       "      <td>45.09</td>\n",
       "    </tr>\n",
       "    <tr>\n",
       "      <th>2</th>\n",
       "      <td>Jonathan Sacoor</td>\n",
       "      <td>Belgium</td>\n",
       "      <td>0.151</td>\n",
       "      <td>45.41</td>\n",
       "    </tr>\n",
       "    <tr>\n",
       "      <th>3</th>\n",
       "      <td>Demish Gaye</td>\n",
       "      <td>Jamaica</td>\n",
       "      <td>0.165</td>\n",
       "      <td>45.49</td>\n",
       "    </tr>\n",
       "    <tr>\n",
       "      <th>4</th>\n",
       "      <td>Alonzo Russell</td>\n",
       "      <td>Bahamas</td>\n",
       "      <td>0.223</td>\n",
       "      <td>45.51</td>\n",
       "    </tr>\n",
       "    <tr>\n",
       "      <th>5</th>\n",
       "      <td>Alex Beck</td>\n",
       "      <td>Australia</td>\n",
       "      <td>0.160</td>\n",
       "      <td>45.54</td>\n",
       "    </tr>\n",
       "    <tr>\n",
       "      <th>6</th>\n",
       "      <td>Ricardo dos Santos</td>\n",
       "      <td>Portugal</td>\n",
       "      <td>0.140</td>\n",
       "      <td>46.83</td>\n",
       "    </tr>\n",
       "    <tr>\n",
       "      <th>7</th>\n",
       "      <td>Bachir Mahamat</td>\n",
       "      <td>Chad</td>\n",
       "      <td>0.206</td>\n",
       "      <td>47.93</td>\n",
       "    </tr>\n",
       "    <tr>\n",
       "      <th>8</th>\n",
       "      <td>Mazen Al-Yassin</td>\n",
       "      <td>Saudi Arabia</td>\n",
       "      <td>0.163</td>\n",
       "      <td>45.16</td>\n",
       "    </tr>\n",
       "    <tr>\n",
       "      <th>9</th>\n",
       "      <td>Kevin Borlée</td>\n",
       "      <td>Belgium</td>\n",
       "      <td>0.126</td>\n",
       "      <td>45.36</td>\n",
       "    </tr>\n",
       "    <tr>\n",
       "      <th>10</th>\n",
       "      <td>Ricky Petrucciani</td>\n",
       "      <td>Switzerland</td>\n",
       "      <td>0.168</td>\n",
       "      <td>45.64</td>\n",
       "    </tr>\n",
       "    <tr>\n",
       "      <th>11</th>\n",
       "      <td>Randolph Ross</td>\n",
       "      <td>United States</td>\n",
       "      <td>0.227</td>\n",
       "      <td>45.67</td>\n",
       "    </tr>\n",
       "    <tr>\n",
       "      <th>12</th>\n",
       "      <td>Zakithi Nene</td>\n",
       "      <td>South Africa</td>\n",
       "      <td>0.147</td>\n",
       "      <td>45.74</td>\n",
       "    </tr>\n",
       "    <tr>\n",
       "      <th>13</th>\n",
       "      <td>Jhon Perlaza</td>\n",
       "      <td>Colombia</td>\n",
       "      <td>0.159</td>\n",
       "      <td>46.55</td>\n",
       "    </tr>\n",
       "    <tr>\n",
       "      <th>14</th>\n",
       "      <td>Pavel Maslák</td>\n",
       "      <td>Czech Republic</td>\n",
       "      <td>0.196</td>\n",
       "      <td>47.01</td>\n",
       "    </tr>\n",
       "    <tr>\n",
       "      <th>15</th>\n",
       "      <td>Ahmed Al-Yaari</td>\n",
       "      <td>Yemen</td>\n",
       "      <td>0.183</td>\n",
       "      <td>48.53</td>\n",
       "    </tr>\n",
       "    <tr>\n",
       "      <th>16</th>\n",
       "      <td>Michael Cherry</td>\n",
       "      <td>United States</td>\n",
       "      <td>0.178</td>\n",
       "      <td>44.82</td>\n",
       "    </tr>\n",
       "    <tr>\n",
       "      <th>17</th>\n",
       "      <td>Jonathan Jones</td>\n",
       "      <td>Barbados</td>\n",
       "      <td>0.181</td>\n",
       "      <td>45.04</td>\n",
       "    </tr>\n",
       "    <tr>\n",
       "      <th>18</th>\n",
       "      <td>Christopher Taylor</td>\n",
       "      <td>Jamaica</td>\n",
       "      <td>0.151</td>\n",
       "      <td>45.20</td>\n",
       "    </tr>\n",
       "    <tr>\n",
       "      <th>19</th>\n",
       "      <td>Dwight St. Hillaire</td>\n",
       "      <td>Trinidad and Tobago</td>\n",
       "      <td>0.176</td>\n",
       "      <td>45.41</td>\n",
       "    </tr>\n",
       "    <tr>\n",
       "      <th>20</th>\n",
       "      <td>Luka Janežič</td>\n",
       "      <td>Slovenia</td>\n",
       "      <td>0.163</td>\n",
       "      <td>45.44</td>\n",
       "    </tr>\n",
       "    <tr>\n",
       "      <th>21</th>\n",
       "      <td>Gilles Anthony Afoumba</td>\n",
       "      <td>Republic of the Congo</td>\n",
       "      <td>0.199</td>\n",
       "      <td>46.03</td>\n",
       "    </tr>\n",
       "    <tr>\n",
       "      <th>22</th>\n",
       "      <td>Lucas Carvalho</td>\n",
       "      <td>Brazil</td>\n",
       "      <td>0.172</td>\n",
       "      <td>46.12</td>\n",
       "    </tr>\n",
       "    <tr>\n",
       "      <th>23</th>\n",
       "      <td>Mohammad Jahir Rayhan</td>\n",
       "      <td>Bangladesh</td>\n",
       "      <td>0.170</td>\n",
       "      <td>48.29</td>\n",
       "    </tr>\n",
       "    <tr>\n",
       "      <th>24</th>\n",
       "      <td>Anthony Zambrano</td>\n",
       "      <td>Colombia</td>\n",
       "      <td>0.167</td>\n",
       "      <td>44.87</td>\n",
       "    </tr>\n",
       "    <tr>\n",
       "      <th>25</th>\n",
       "      <td>Steven Solomon</td>\n",
       "      <td>Australia</td>\n",
       "      <td>0.163</td>\n",
       "      <td>44.94</td>\n",
       "    </tr>\n",
       "    <tr>\n",
       "      <th>26</th>\n",
       "      <td>Wayde van Niekerk</td>\n",
       "      <td>South Africa</td>\n",
       "      <td>0.162</td>\n",
       "      <td>45.25</td>\n",
       "    </tr>\n",
       "    <tr>\n",
       "      <th>27</th>\n",
       "      <td>Leungo Scotch</td>\n",
       "      <td>Botswana</td>\n",
       "      <td>0.186</td>\n",
       "      <td>45.32</td>\n",
       "    </tr>\n",
       "    <tr>\n",
       "      <th>28</th>\n",
       "      <td>Davide Re</td>\n",
       "      <td>Italy</td>\n",
       "      <td>0.171</td>\n",
       "      <td>45.46</td>\n",
       "    </tr>\n",
       "    <tr>\n",
       "      <th>29</th>\n",
       "      <td>Julian Walsh</td>\n",
       "      <td>Japan</td>\n",
       "      <td>0.146</td>\n",
       "      <td>46.57</td>\n",
       "    </tr>\n",
       "    <tr>\n",
       "      <th>30</th>\n",
       "      <td>Jovan Stojoski</td>\n",
       "      <td>North Macedonia</td>\n",
       "      <td>0.184</td>\n",
       "      <td>46.81</td>\n",
       "    </tr>\n",
       "    <tr>\n",
       "      <th>31</th>\n",
       "      <td>Steven Gardiner</td>\n",
       "      <td>Bahamas</td>\n",
       "      <td>0.163</td>\n",
       "      <td>45.05</td>\n",
       "    </tr>\n",
       "    <tr>\n",
       "      <th>32</th>\n",
       "      <td>Deon Lendore</td>\n",
       "      <td>Trinidad and Tobago</td>\n",
       "      <td>0.203</td>\n",
       "      <td>45.14</td>\n",
       "    </tr>\n",
       "    <tr>\n",
       "      <th>33</th>\n",
       "      <td>Jochem Dobber</td>\n",
       "      <td>Netherlands</td>\n",
       "      <td>0.179</td>\n",
       "      <td>45.54</td>\n",
       "    </tr>\n",
       "    <tr>\n",
       "      <th>34</th>\n",
       "      <td>Nathon Allen</td>\n",
       "      <td>Jamaica</td>\n",
       "      <td>0.138</td>\n",
       "      <td>46.12</td>\n",
       "    </tr>\n",
       "    <tr>\n",
       "      <th>35</th>\n",
       "      <td>Sadam Koumi</td>\n",
       "      <td>Sudan</td>\n",
       "      <td>0.143</td>\n",
       "      <td>46.26</td>\n",
       "    </tr>\n",
       "    <tr>\n",
       "      <th>36</th>\n",
       "      <td>Marvin Schlegel</td>\n",
       "      <td>Germany</td>\n",
       "      <td>0.200</td>\n",
       "      <td>46.39</td>\n",
       "    </tr>\n",
       "    <tr>\n",
       "      <th>37</th>\n",
       "      <td>Mikhail Litvin</td>\n",
       "      <td>Kazakhstan</td>\n",
       "      <td>0.210</td>\n",
       "      <td>47.15</td>\n",
       "    </tr>\n",
       "    <tr>\n",
       "      <th>38</th>\n",
       "      <td>Liemarvin Bonevacia</td>\n",
       "      <td>Netherlands</td>\n",
       "      <td>0.171</td>\n",
       "      <td>44.95</td>\n",
       "    </tr>\n",
       "    <tr>\n",
       "      <th>39</th>\n",
       "      <td>Michael Norman</td>\n",
       "      <td>United States</td>\n",
       "      <td>0.157</td>\n",
       "      <td>45.35</td>\n",
       "    </tr>\n",
       "    <tr>\n",
       "      <th>40</th>\n",
       "      <td>Machel Cedenio</td>\n",
       "      <td>Trinidad and Tobago</td>\n",
       "      <td>0.218</td>\n",
       "      <td>45.56</td>\n",
       "    </tr>\n",
       "    <tr>\n",
       "      <th>41</th>\n",
       "      <td>Edoardo Scotti</td>\n",
       "      <td>Italy</td>\n",
       "      <td>0.169</td>\n",
       "      <td>45.71</td>\n",
       "    </tr>\n",
       "    <tr>\n",
       "      <th>42</th>\n",
       "      <td>Thapelo Phora</td>\n",
       "      <td>South Africa</td>\n",
       "      <td>0.150</td>\n",
       "      <td>45.83</td>\n",
       "    </tr>\n",
       "    <tr>\n",
       "      <th>43</th>\n",
       "      <td>Taha Hussein Yaseen</td>\n",
       "      <td>Iraq</td>\n",
       "      <td>0.144</td>\n",
       "      <td>46.00</td>\n",
       "    </tr>\n",
       "    <tr>\n",
       "      <th>44</th>\n",
       "      <td>Óscar Husillos</td>\n",
       "      <td>Spain</td>\n",
       "      <td>0.147</td>\n",
       "      <td>48.05</td>\n",
       "    </tr>\n",
       "    <tr>\n",
       "      <th>45</th>\n",
       "      <td>Todisoa Rabearison</td>\n",
       "      <td>Madagascar</td>\n",
       "      <td>0.196</td>\n",
       "      <td>48.40</td>\n",
       "    </tr>\n",
       "  </tbody>\n",
       "</table>\n",
       "</div>"
      ],
      "text/plain": [
       "                  Athelete                Country  Reaction Time  Sprint Time\n",
       "0            Isaac Makwala               Botswana          0.197        44.86\n",
       "1             Kirani James                Grenada          0.160        45.09\n",
       "2          Jonathan Sacoor                Belgium          0.151        45.41\n",
       "3              Demish Gaye                Jamaica          0.165        45.49\n",
       "4           Alonzo Russell                Bahamas          0.223        45.51\n",
       "5                Alex Beck              Australia          0.160        45.54\n",
       "6       Ricardo dos Santos               Portugal          0.140        46.83\n",
       "7           Bachir Mahamat                   Chad          0.206        47.93\n",
       "8          Mazen Al-Yassin           Saudi Arabia          0.163        45.16\n",
       "9             Kevin Borlée                Belgium          0.126        45.36\n",
       "10       Ricky Petrucciani            Switzerland          0.168        45.64\n",
       "11           Randolph Ross          United States          0.227        45.67\n",
       "12            Zakithi Nene           South Africa          0.147        45.74\n",
       "13            Jhon Perlaza               Colombia          0.159        46.55\n",
       "14            Pavel Maslák         Czech Republic          0.196        47.01\n",
       "15          Ahmed Al-Yaari                  Yemen          0.183        48.53\n",
       "16          Michael Cherry          United States          0.178        44.82\n",
       "17          Jonathan Jones               Barbados          0.181        45.04\n",
       "18      Christopher Taylor                Jamaica          0.151        45.20\n",
       "19     Dwight St. Hillaire    Trinidad and Tobago          0.176        45.41\n",
       "20            Luka Janežič               Slovenia          0.163        45.44\n",
       "21  Gilles Anthony Afoumba  Republic of the Congo          0.199        46.03\n",
       "22          Lucas Carvalho                 Brazil          0.172        46.12\n",
       "23   Mohammad Jahir Rayhan             Bangladesh          0.170        48.29\n",
       "24        Anthony Zambrano               Colombia          0.167        44.87\n",
       "25          Steven Solomon              Australia          0.163        44.94\n",
       "26       Wayde van Niekerk           South Africa          0.162        45.25\n",
       "27           Leungo Scotch               Botswana          0.186        45.32\n",
       "28               Davide Re                  Italy          0.171        45.46\n",
       "29            Julian Walsh                  Japan          0.146        46.57\n",
       "30          Jovan Stojoski        North Macedonia          0.184        46.81\n",
       "31         Steven Gardiner                Bahamas          0.163        45.05\n",
       "32            Deon Lendore    Trinidad and Tobago          0.203        45.14\n",
       "33           Jochem Dobber            Netherlands          0.179        45.54\n",
       "34            Nathon Allen                Jamaica          0.138        46.12\n",
       "35             Sadam Koumi                  Sudan          0.143        46.26\n",
       "36         Marvin Schlegel                Germany          0.200        46.39\n",
       "37          Mikhail Litvin             Kazakhstan          0.210        47.15\n",
       "38     Liemarvin Bonevacia            Netherlands          0.171        44.95\n",
       "39          Michael Norman          United States          0.157        45.35\n",
       "40          Machel Cedenio    Trinidad and Tobago          0.218        45.56\n",
       "41          Edoardo Scotti                  Italy          0.169        45.71\n",
       "42           Thapelo Phora           South Africa          0.150        45.83\n",
       "43     Taha Hussein Yaseen                   Iraq          0.144        46.00\n",
       "44          Óscar Husillos                  Spain          0.147        48.05\n",
       "45      Todisoa Rabearison             Madagascar          0.196        48.40"
      ]
     },
     "execution_count": 228,
     "metadata": {},
     "output_type": "execute_result"
    }
   ],
   "source": [
    "h400m_df.columns=['Athelete','Country','Reaction Time','Sprint Time']\n",
    "h400m_df"
   ]
  },
  {
   "cell_type": "code",
   "execution_count": 229,
   "id": "371e104b-5afc-4de6-aaa8-71eb3c8bfd9c",
   "metadata": {},
   "outputs": [
    {
     "data": {
      "text/plain": [
       "45.943260869565215"
      ]
     },
     "execution_count": 229,
     "metadata": {},
     "output_type": "execute_result"
    }
   ],
   "source": [
    "stime_avg = h400m_df[\"Sprint Time\"].mean()\n",
    "stime_avg ##This is the mean Sprint Time in 400m heats."
   ]
  },
  {
   "cell_type": "code",
   "execution_count": 231,
   "id": "2dc6dab5-dd34-43b9-ac0a-3c19a6fc9ea6",
   "metadata": {},
   "outputs": [
    {
     "data": {
      "text/plain": [
       "0.17234782608695653"
      ]
     },
     "execution_count": 231,
     "metadata": {},
     "output_type": "execute_result"
    }
   ],
   "source": [
    "rtime_avg = h400m_df[\"Reaction Time\"].mean()\n",
    "rtime_avg ##This is the mean Reaction Time in 400m heats."
   ]
  },
  {
   "cell_type": "code",
   "execution_count": 232,
   "id": "4d2c3449-a64c-418b-a6a1-a5e16a4ed27b",
   "metadata": {},
   "outputs": [],
   "source": [
    "rtime400m= h400m_df['Reaction Time']"
   ]
  },
  {
   "cell_type": "code",
   "execution_count": 233,
   "id": "ca737a09-0096-4dd4-bc25-792b8ac6939d",
   "metadata": {},
   "outputs": [],
   "source": [
    "stime400m= h400m_df['Sprint Time']"
   ]
  },
  {
   "cell_type": "markdown",
   "id": "30162abe-3b16-49b0-9350-1dca64a8abe3",
   "metadata": {},
   "source": [
    "### Let's plot the average reaction time."
   ]
  },
  {
   "cell_type": "code",
   "execution_count": 236,
   "id": "06059ea6-a09c-438d-9561-70d37ab0c5a4",
   "metadata": {},
   "outputs": [
    {
     "data": {
      "image/png": "[encoded data removed]",
      "text/plain": [
       "<Figure size 432x288 with 1 Axes>"
      ]
     },
     "metadata": {
      "needs_background": "light"
     },
     "output_type": "display_data"
    }
   ],
   "source": [
    "collect_samples(rtime400m,25,10000)\n",
    "avgs=collect_samples(rtime400m,25,10000)\n",
    "plt.hist(avgs,bins=20, density=True)\n",
    "xs = np.linspace(0.160,0.185, 40)\n",
    "mean_xbar = np.mean(rtime400m)\n",
    "std_xbar = np.std(rtime400m, ddof=1)/np.sqrt(40) # 40 is the sample size \n",
    "ys = st.norm.pdf(xs,mean_xbar,std_xbar)\n",
    "plt.ylabel(\"Distribution\")\n",
    "plt.xlabel(\"Average Reaction Time(Heats 400m)\")\n",
    "plt.plot(xs,ys,'k')\n",
    "plt.show()"
   ]
  },
  {
   "cell_type": "markdown",
   "id": "58ee3f0f-2bbf-4685-b403-6bf6dbbd3214",
   "metadata": {},
   "source": [
    "So, we can clearly see that the averages of the reaction time which in this case is our random variable resembles a gaussian distribution. "
   ]
  },
  {
   "cell_type": "markdown",
   "id": "18fa4567-8ed9-45b0-862d-d28fe8565aa4",
   "metadata": {},
   "source": [
    "### Let's do the same with Sprint Time"
   ]
  },
  {
   "cell_type": "code",
   "execution_count": 240,
   "id": "bc30d743-72e5-488a-871f-c1eead1111db",
   "metadata": {},
   "outputs": [
    {
     "data": {
      "image/png": "[encoded data removed]",
      "text/plain": [
       "<Figure size 432x288 with 1 Axes>"
      ]
     },
     "metadata": {
      "needs_background": "light"
     },
     "output_type": "display_data"
    }
   ],
   "source": [
    "collect_samples(stime400m,25,10000)\n",
    "avgs=collect_samples(stime400m,25,10000)\n",
    "plt.hist(avgs,bins=20, density=True)\n",
    "xs = np.linspace(45,46.8, 40)\n",
    "mean_xbar = np.mean(stime400m)\n",
    "std_xbar = np.std(stime400m, ddof=1)/np.sqrt(40) # 40 is the sample size \n",
    "ys = st.norm.pdf(xs,mean_xbar,std_xbar)\n",
    "plt.ylabel(\"Distribution\")\n",
    "plt.xlabel(\"Average Sprint Time(Heats 400m)\")\n",
    "plt.plot(xs,ys,'k')\n",
    "plt.show()"
   ]
  },
  {
   "cell_type": "markdown",
   "id": "6aecc7af-b797-4aae-abe6-356fc7dfc1b3",
   "metadata": {},
   "source": [
    "So, we can clearly see that the averages of the sprint time which in this case is our random variable resembles a gaussian distribution. "
   ]
  },
  {
   "cell_type": "markdown",
   "id": "8999ce40-e6ec-4683-ae69-b8fb3921feb6",
   "metadata": {},
   "source": [
    "### Let's do the regression part"
   ]
  },
  {
   "cell_type": "code",
   "execution_count": 241,
   "id": "267ce597-c1c7-4a2f-9e12-e2eefc664e55",
   "metadata": {},
   "outputs": [
    {
     "data": {
      "image/png": "[encoded data removed]",
      "text/plain": [
       "<Figure size 432x288 with 1 Axes>"
      ]
     },
     "metadata": {
      "needs_background": "light"
     },
     "output_type": "display_data"
    }
   ],
   "source": [
    "plt.plot(rtime400m,stime400m,'bo')\n",
    "c1,c0=np.polyfit(rtime400m,stime400m,deg=1)\n",
    "plt.plot(rtime400m,c0 + c1*rtime400m,'red',lw=1)\n",
    "plt.xlabel(\"Reaction Time Averages(Heats 400m)\")\n",
    "plt.ylabel(\"Sprint Time Averages(heats 400m)\");"
   ]
  },
  {
   "cell_type": "markdown",
   "id": "452e960c-3efd-473e-a227-042a9b5cc11d",
   "metadata": {},
   "source": [
    "#### Let's compute the coefficient of co-relation for the same."
   ]
  },
  {
   "cell_type": "code",
   "execution_count": 242,
   "id": "efa85d8b-3d08-454a-8ca3-248d729fa315",
   "metadata": {},
   "outputs": [
    {
     "data": {
      "text/plain": [
       "0.012865318218357454"
      ]
     },
     "execution_count": 242,
     "metadata": {},
     "output_type": "execute_result"
    }
   ],
   "source": [
    "compute_R2(rtime400m,stime400m)"
   ]
  },
  {
   "cell_type": "markdown",
   "id": "1999627c-5b00-438d-8aa4-78b8dc0842e5",
   "metadata": {},
   "source": [
    "### Now, onto the Semis 400m."
   ]
  },
  {
   "cell_type": "code",
   "execution_count": 264,
   "id": "95d5c663-c8ee-4907-b4a5-2febc4957372",
   "metadata": {},
   "outputs": [],
   "source": [
    "semis400m_df=pd.read_csv('semis400m.csv', header= None , sep = ',')"
   ]
  },
  {
   "cell_type": "code",
   "execution_count": 245,
   "id": "0172c739-f417-4259-ae0a-147d7828f3ba",
   "metadata": {},
   "outputs": [
    {
     "data": {
      "text/html": [
       "<div>\n",
       "<style scoped>\n",
       "    .dataframe tbody tr th:only-of-type {\n",
       "        vertical-align: middle;\n",
       "    }\n",
       "\n",
       "    .dataframe tbody tr th {\n",
       "        vertical-align: top;\n",
       "    }\n",
       "\n",
       "    .dataframe thead th {\n",
       "        text-align: right;\n",
       "    }\n",
       "</style>\n",
       "<table border=\"1\" class=\"dataframe\">\n",
       "  <thead>\n",
       "    <tr style=\"text-align: right;\">\n",
       "      <th></th>\n",
       "      <th>Athelete</th>\n",
       "      <th>Country</th>\n",
       "      <th>Reaction Time</th>\n",
       "      <th>Sprint Time</th>\n",
       "    </tr>\n",
       "  </thead>\n",
       "  <tbody>\n",
       "    <tr>\n",
       "      <th>0</th>\n",
       "      <td>Michael Cherry</td>\n",
       "      <td>United States</td>\n",
       "      <td>0.162</td>\n",
       "      <td>44.44</td>\n",
       "    </tr>\n",
       "    <tr>\n",
       "      <th>1</th>\n",
       "      <td>Christopher Taylor</td>\n",
       "      <td>Jamaica</td>\n",
       "      <td>0.164</td>\n",
       "      <td>44.92</td>\n",
       "    </tr>\n",
       "    <tr>\n",
       "      <th>2</th>\n",
       "      <td>Steven Solomon</td>\n",
       "      <td>Australia</td>\n",
       "      <td>0.168</td>\n",
       "      <td>45.15</td>\n",
       "    </tr>\n",
       "    <tr>\n",
       "      <th>3</th>\n",
       "      <td>Mazen Al-Yassin</td>\n",
       "      <td>Saudi Arabia</td>\n",
       "      <td>0.154</td>\n",
       "      <td>45.37</td>\n",
       "    </tr>\n",
       "    <tr>\n",
       "      <th>4</th>\n",
       "      <td>Leungo Scotch</td>\n",
       "      <td>Botswana</td>\n",
       "      <td>0.178</td>\n",
       "      <td>45.56</td>\n",
       "    </tr>\n",
       "    <tr>\n",
       "      <th>5</th>\n",
       "      <td>Machel Cedenio</td>\n",
       "      <td>Trinidad and Tobago</td>\n",
       "      <td>0.192</td>\n",
       "      <td>45.86</td>\n",
       "    </tr>\n",
       "    <tr>\n",
       "      <th>6</th>\n",
       "      <td>Alonzo Russell</td>\n",
       "      <td>Bahamas</td>\n",
       "      <td>0.169</td>\n",
       "      <td>46.04</td>\n",
       "    </tr>\n",
       "    <tr>\n",
       "      <th>7</th>\n",
       "      <td>Kirani James</td>\n",
       "      <td>Grenada</td>\n",
       "      <td>0.160</td>\n",
       "      <td>43.88</td>\n",
       "    </tr>\n",
       "    <tr>\n",
       "      <th>8</th>\n",
       "      <td>Anthony Zambrano</td>\n",
       "      <td>Colombia</td>\n",
       "      <td>0.175</td>\n",
       "      <td>43.93</td>\n",
       "    </tr>\n",
       "    <tr>\n",
       "      <th>9</th>\n",
       "      <td>Liemarvin Bonevacia</td>\n",
       "      <td>Netherlands</td>\n",
       "      <td>0.160</td>\n",
       "      <td>44.62</td>\n",
       "    </tr>\n",
       "    <tr>\n",
       "      <th>10</th>\n",
       "      <td>Deon Lendore</td>\n",
       "      <td>Trinidad and Tobago</td>\n",
       "      <td>0.193</td>\n",
       "      <td>44.93</td>\n",
       "    </tr>\n",
       "    <tr>\n",
       "      <th>11</th>\n",
       "      <td>Davide Re</td>\n",
       "      <td>Italy</td>\n",
       "      <td>0.157</td>\n",
       "      <td>44.94</td>\n",
       "    </tr>\n",
       "    <tr>\n",
       "      <th>12</th>\n",
       "      <td>Ricky Petrucciani</td>\n",
       "      <td>Switzerland</td>\n",
       "      <td>0.140</td>\n",
       "      <td>45.26</td>\n",
       "    </tr>\n",
       "    <tr>\n",
       "      <th>13</th>\n",
       "      <td>Luka Janežič</td>\n",
       "      <td>Slovenia</td>\n",
       "      <td>0.152</td>\n",
       "      <td>45.36</td>\n",
       "    </tr>\n",
       "    <tr>\n",
       "      <th>14</th>\n",
       "      <td>Jonathan Sacoor</td>\n",
       "      <td>Belgium</td>\n",
       "      <td>0.136</td>\n",
       "      <td>45.88</td>\n",
       "    </tr>\n",
       "    <tr>\n",
       "      <th>15</th>\n",
       "      <td>Steven Gardiner</td>\n",
       "      <td>Bahamas</td>\n",
       "      <td>0.152</td>\n",
       "      <td>44.14</td>\n",
       "    </tr>\n",
       "    <tr>\n",
       "      <th>16</th>\n",
       "      <td>Michael Norman</td>\n",
       "      <td>United States</td>\n",
       "      <td>0.156</td>\n",
       "      <td>44.52</td>\n",
       "    </tr>\n",
       "    <tr>\n",
       "      <th>17</th>\n",
       "      <td>Isaac Makwala</td>\n",
       "      <td>Botswana</td>\n",
       "      <td>0.197</td>\n",
       "      <td>44.59</td>\n",
       "    </tr>\n",
       "    <tr>\n",
       "      <th>18</th>\n",
       "      <td>Demish Gaye</td>\n",
       "      <td>Jamaica</td>\n",
       "      <td>0.155</td>\n",
       "      <td>45.09</td>\n",
       "    </tr>\n",
       "    <tr>\n",
       "      <th>19</th>\n",
       "      <td>Wayde van Niekerk</td>\n",
       "      <td>South Africa</td>\n",
       "      <td>0.381</td>\n",
       "      <td>45.14</td>\n",
       "    </tr>\n",
       "    <tr>\n",
       "      <th>20</th>\n",
       "      <td>Jochem Dobber</td>\n",
       "      <td>Netherlands</td>\n",
       "      <td>0.191</td>\n",
       "      <td>45.48</td>\n",
       "    </tr>\n",
       "    <tr>\n",
       "      <th>21</th>\n",
       "      <td>Dwight St. Hillaire</td>\n",
       "      <td>Trinidad and Tobago</td>\n",
       "      <td>0.153</td>\n",
       "      <td>45.58</td>\n",
       "    </tr>\n",
       "    <tr>\n",
       "      <th>22</th>\n",
       "      <td>Jonathan Jones</td>\n",
       "      <td>Barbados</td>\n",
       "      <td>0.159</td>\n",
       "      <td>45.61</td>\n",
       "    </tr>\n",
       "  </tbody>\n",
       "</table>\n",
       "</div>"
      ],
      "text/plain": [
       "               Athelete              Country  Reaction Time  Sprint Time\n",
       "0        Michael Cherry        United States          0.162        44.44\n",
       "1    Christopher Taylor              Jamaica          0.164        44.92\n",
       "2        Steven Solomon            Australia          0.168        45.15\n",
       "3       Mazen Al-Yassin         Saudi Arabia          0.154        45.37\n",
       "4         Leungo Scotch             Botswana          0.178        45.56\n",
       "5        Machel Cedenio  Trinidad and Tobago          0.192        45.86\n",
       "6        Alonzo Russell              Bahamas          0.169        46.04\n",
       "7          Kirani James              Grenada          0.160        43.88\n",
       "8      Anthony Zambrano             Colombia          0.175        43.93\n",
       "9   Liemarvin Bonevacia          Netherlands          0.160        44.62\n",
       "10         Deon Lendore  Trinidad and Tobago          0.193        44.93\n",
       "11            Davide Re                Italy          0.157        44.94\n",
       "12    Ricky Petrucciani          Switzerland          0.140        45.26\n",
       "13         Luka Janežič             Slovenia          0.152        45.36\n",
       "14      Jonathan Sacoor              Belgium          0.136        45.88\n",
       "15      Steven Gardiner              Bahamas          0.152        44.14\n",
       "16       Michael Norman        United States          0.156        44.52\n",
       "17        Isaac Makwala             Botswana          0.197        44.59\n",
       "18          Demish Gaye              Jamaica          0.155        45.09\n",
       "19    Wayde van Niekerk         South Africa          0.381        45.14\n",
       "20        Jochem Dobber          Netherlands          0.191        45.48\n",
       "21  Dwight St. Hillaire  Trinidad and Tobago          0.153        45.58\n",
       "22       Jonathan Jones             Barbados          0.159        45.61"
      ]
     },
     "execution_count": 245,
     "metadata": {},
     "output_type": "execute_result"
    }
   ],
   "source": [
    "semis400m_df.columns=['Athelete','Country','Reaction Time','Sprint Time']\n",
    "semis400m_df"
   ]
  },
  {
   "cell_type": "code",
   "execution_count": 246,
   "id": "9209f25f-47cb-4afe-a7ee-bbbcdfeb024c",
   "metadata": {},
   "outputs": [
    {
     "data": {
      "text/plain": [
       "45.056086956521746"
      ]
     },
     "execution_count": 246,
     "metadata": {},
     "output_type": "execute_result"
    }
   ],
   "source": [
    "stime_avg = semis400m_df[\"Sprint Time\"].mean()\n",
    "stime_avg ##This is the mean Sprint Time in 400m semis."
   ]
  },
  {
   "cell_type": "code",
   "execution_count": 247,
   "id": "dedfa617-b52d-4e32-84ed-e475a0a1c6d7",
   "metadata": {},
   "outputs": [
    {
     "data": {
      "text/plain": [
       "0.17408695652173914"
      ]
     },
     "execution_count": 247,
     "metadata": {},
     "output_type": "execute_result"
    }
   ],
   "source": [
    "rtime_avg = semis400m_df[\"Reaction Time\"].mean()\n",
    "rtime_avg ##This is the mean Reaction Time in 400m semis."
   ]
  },
  {
   "cell_type": "code",
   "execution_count": 248,
   "id": "2c47b568-147a-4b58-80da-5178a9920083",
   "metadata": {},
   "outputs": [],
   "source": [
    "rtimesemi400m= semis400m_df['Reaction Time']"
   ]
  },
  {
   "cell_type": "code",
   "execution_count": 249,
   "id": "89bb4e8a-b8d5-4938-8eef-7eeb1a40bf0a",
   "metadata": {},
   "outputs": [],
   "source": [
    "stimesemi400m= semis400m_df['Sprint Time']"
   ]
  },
  {
   "cell_type": "markdown",
   "id": "4fddf0d1-7276-443e-a4fb-ea10097d3cc1",
   "metadata": {},
   "source": [
    "#### Plotting the average of reaction time for (400m semis.)"
   ]
  },
  {
   "cell_type": "code",
   "execution_count": 276,
   "id": "2b13caf4-4226-4260-ba04-69f8472579f5",
   "metadata": {},
   "outputs": [
    {
     "data": {
      "image/png": "[encoded data removed]",
      "text/plain": [
       "<Figure size 432x288 with 1 Axes>"
      ]
     },
     "metadata": {
      "needs_background": "light"
     },
     "output_type": "display_data"
    }
   ],
   "source": [
    "avgs=collect_samples(rtimesemi400m,10,1000)\n",
    "plt.hist(avgs,bins=20, density=True)\n",
    "xs = np.linspace(0.140,0.21, 40)\n",
    "mean_xbar = np.mean(rtimesemi400m)\n",
    "std_xbar = np.std(rtimesemi400m, ddof=1)/np.sqrt(40) # 40 is the sample size \n",
    "ys = st.norm.pdf(xs,mean_xbar,std_xbar)\n",
    "plt.ylabel(\"Distribution\")\n",
    "plt.xlabel(\"Average Reaction Time(Semis 400m)\")\n",
    "plt.plot(xs,ys,'orange')\n",
    "plt.show()"
   ]
  },
  {
   "cell_type": "markdown",
   "id": "b3d2e06e-6e27-4bd7-8605-3f3d60d90180",
   "metadata": {},
   "source": [
    "#### Plotting the sprint time average for Semis 400m."
   ]
  },
  {
   "cell_type": "code",
   "execution_count": 258,
   "id": "9b521b29-8b6d-4416-b38b-cf0432ebccc2",
   "metadata": {},
   "outputs": [
    {
     "data": {
      "image/png": "[encoded data removed]",
      "text/plain": [
       "<Figure size 432x288 with 1 Axes>"
      ]
     },
     "metadata": {
      "needs_background": "light"
     },
     "output_type": "display_data"
    }
   ],
   "source": [
    "collect_samples(stimesemi400m,10,10000)\n",
    "avgs=collect_samples(stimesemi400m,10,10000)\n",
    "plt.hist(avgs,bins=20, density=True)\n",
    "xs = np.linspace(44,46, 40)\n",
    "mean_xbar = np.mean(stimesemi400m)\n",
    "std_xbar = np.std(stimesemi400m, ddof=1)/np.sqrt(40) # 40 is the sample size \n",
    "ys = st.norm.pdf(xs,mean_xbar,std_xbar)\n",
    "plt.ylabel(\"Distribution\")\n",
    "plt.xlabel(\"Average Sprint Time(Semis 400m)\")\n",
    "plt.plot(xs,ys,'orange')\n",
    "plt.show()"
   ]
  },
  {
   "cell_type": "markdown",
   "id": "9309c436-29a1-4656-b9cf-c558bc82e175",
   "metadata": {},
   "source": [
    "#### Linear regression model for the same:"
   ]
  },
  {
   "cell_type": "code",
   "execution_count": 260,
   "id": "8077af12-c5ca-4ee2-9fd9-be8132679c9a",
   "metadata": {},
   "outputs": [
    {
     "data": {
      "image/png": "[encoded data removed]",
      "text/plain": [
       "<Figure size 432x288 with 1 Axes>"
      ]
     },
     "metadata": {
      "needs_background": "light"
     },
     "output_type": "display_data"
    }
   ],
   "source": [
    "plt.plot(rtimesemi400m,stimesemi400m,'bo')\n",
    "c1,c0=np.polyfit(rtimesemi400m,stimesemi400m,deg=1)\n",
    "plt.plot(rtimesemi400m,c0 + c1*rtimesemi400m,'green',lw=1)\n",
    "plt.xlabel(\"Reaction Time Averages(Heats 400m)\")\n",
    "plt.ylabel(\"Sprint Time Averages(heats 400m)\");"
   ]
  },
  {
   "cell_type": "markdown",
   "id": "73cf6116-78f1-40eb-805a-7368d2bbb9d5",
   "metadata": {},
   "source": [
    "#### Let us also calculate the coefficient of corelation for the above model. (R^2)."
   ]
  },
  {
   "cell_type": "code",
   "execution_count": 263,
   "id": "6acd1107-a41d-41aa-843d-6b574bef0024",
   "metadata": {},
   "outputs": [
    {
     "data": {
      "text/plain": [
       "0.00042582358281738347"
      ]
     },
     "execution_count": 263,
     "metadata": {},
     "output_type": "execute_result"
    }
   ],
   "source": [
    "compute_R2(rtimesemi400m,stimesemi400m)"
   ]
  },
  {
   "cell_type": "markdown",
   "id": "65f62aa4-6baf-4ed1-b71b-32fe72199c6a",
   "metadata": {},
   "source": [
    "So, we can see that the linear model is really a bad fit for this, thus we can conclude that their is no such linear relationship between sprint time and reaction time."
   ]
  },
  {
   "cell_type": "markdown",
   "id": "d9107857-d108-4e39-a586-d1c122faec03",
   "metadata": {},
   "source": [
    "### Lastly, the 400m finals."
   ]
  },
  {
   "cell_type": "code",
   "execution_count": 265,
   "id": "1a340ddd-f684-4cd4-9da0-1b4de6c68cd3",
   "metadata": {},
   "outputs": [],
   "source": [
    "finals400m_df=pd.read_csv('finals400m.csv', header= None , sep = ',')"
   ]
  },
  {
   "cell_type": "code",
   "execution_count": 266,
   "id": "b651450e-9953-4f5c-99a5-23f99d20aedf",
   "metadata": {},
   "outputs": [
    {
     "data": {
      "text/html": [
       "<div>\n",
       "<style scoped>\n",
       "    .dataframe tbody tr th:only-of-type {\n",
       "        vertical-align: middle;\n",
       "    }\n",
       "\n",
       "    .dataframe tbody tr th {\n",
       "        vertical-align: top;\n",
       "    }\n",
       "\n",
       "    .dataframe thead th {\n",
       "        text-align: right;\n",
       "    }\n",
       "</style>\n",
       "<table border=\"1\" class=\"dataframe\">\n",
       "  <thead>\n",
       "    <tr style=\"text-align: right;\">\n",
       "      <th></th>\n",
       "      <th>Athelete</th>\n",
       "      <th>Country</th>\n",
       "      <th>Reaction Time</th>\n",
       "      <th>Sprint Time</th>\n",
       "    </tr>\n",
       "  </thead>\n",
       "  <tbody>\n",
       "    <tr>\n",
       "      <th>0</th>\n",
       "      <td>Steven Gardiner</td>\n",
       "      <td>Bahamas</td>\n",
       "      <td>0.179</td>\n",
       "      <td>43.85</td>\n",
       "    </tr>\n",
       "    <tr>\n",
       "      <th>1</th>\n",
       "      <td>Anthony Zambrano</td>\n",
       "      <td>Colombia</td>\n",
       "      <td>0.166</td>\n",
       "      <td>44.08</td>\n",
       "    </tr>\n",
       "    <tr>\n",
       "      <th>2</th>\n",
       "      <td>Kirani James</td>\n",
       "      <td>Grenada</td>\n",
       "      <td>0.157</td>\n",
       "      <td>44.19</td>\n",
       "    </tr>\n",
       "    <tr>\n",
       "      <th>3</th>\n",
       "      <td>Michael Cherry</td>\n",
       "      <td>United States</td>\n",
       "      <td>0.179</td>\n",
       "      <td>44.21</td>\n",
       "    </tr>\n",
       "    <tr>\n",
       "      <th>4</th>\n",
       "      <td>Michael Norman</td>\n",
       "      <td>United States</td>\n",
       "      <td>0.148</td>\n",
       "      <td>44.31</td>\n",
       "    </tr>\n",
       "    <tr>\n",
       "      <th>5</th>\n",
       "      <td>Christopher Taylor</td>\n",
       "      <td>Jamaica</td>\n",
       "      <td>0.158</td>\n",
       "      <td>44.79</td>\n",
       "    </tr>\n",
       "    <tr>\n",
       "      <th>6</th>\n",
       "      <td>Isaac Makwala</td>\n",
       "      <td>Botswana</td>\n",
       "      <td>0.167</td>\n",
       "      <td>44.94</td>\n",
       "    </tr>\n",
       "    <tr>\n",
       "      <th>7</th>\n",
       "      <td>Liemarvin Bonevacia</td>\n",
       "      <td>Netherlands</td>\n",
       "      <td>0.168</td>\n",
       "      <td>45.07</td>\n",
       "    </tr>\n",
       "  </tbody>\n",
       "</table>\n",
       "</div>"
      ],
      "text/plain": [
       "              Athelete        Country  Reaction Time  Sprint Time\n",
       "0      Steven Gardiner        Bahamas          0.179        43.85\n",
       "1     Anthony Zambrano       Colombia          0.166        44.08\n",
       "2         Kirani James        Grenada          0.157        44.19\n",
       "3       Michael Cherry  United States          0.179        44.21\n",
       "4       Michael Norman  United States          0.148        44.31\n",
       "5   Christopher Taylor        Jamaica          0.158        44.79\n",
       "6        Isaac Makwala       Botswana          0.167        44.94\n",
       "7  Liemarvin Bonevacia    Netherlands          0.168        45.07"
      ]
     },
     "execution_count": 266,
     "metadata": {},
     "output_type": "execute_result"
    }
   ],
   "source": [
    "finals400m_df.columns=['Athelete','Country','Reaction Time','Sprint Time']\n",
    "finals400m_df"
   ]
  },
  {
   "cell_type": "code",
   "execution_count": 268,
   "id": "9368f520-6ded-4f34-bb70-9e5f8f4586cd",
   "metadata": {},
   "outputs": [],
   "source": [
    "rtimefinal400m = finals400m_df['Reaction Time']\n",
    "stimefinal400m = finals400m_df['Sprint Time']"
   ]
  },
  {
   "cell_type": "markdown",
   "id": "00b3e8fd-12e6-4771-a461-0d11568c3c7f",
   "metadata": {},
   "source": [
    "#### Plotting the average reaction time for Finals 400m."
   ]
  },
  {
   "cell_type": "code",
   "execution_count": 286,
   "id": "6deee5b7-612a-4282-8374-b8527bbab091",
   "metadata": {},
   "outputs": [
    {
     "data": {
      "image/png": "[encoded data removed]",
      "text/plain": [
       "<Figure size 432x288 with 1 Axes>"
      ]
     },
     "metadata": {
      "needs_background": "light"
     },
     "output_type": "display_data"
    }
   ],
   "source": [
    "collect_samples(rtimefinal400m,5,100000)\n",
    "avgs=collect_samples(rtimefinal400m,5,100000)\n",
    "plt.hist(avgs,bins=20, density=True)\n",
    "xs = np.linspace(0.15,0.175, 40)\n",
    "mean_xbar = np.mean(rtimefinal400m)\n",
    "std_xbar = np.std(rtimefinal400m, ddof=1)/np.sqrt(40) # 40 is the sample size \n",
    "ys = st.norm.pdf(xs,mean_xbar,std_xbar)\n",
    "plt.ylabel(\"Distribution\")\n",
    "plt.xlabel(\"Average Reaction Time(Finals 400m)\")\n",
    "plt.plot(xs,ys,'red')\n",
    "plt.show()"
   ]
  },
  {
   "cell_type": "code",
   "execution_count": 287,
   "id": "57bdcff4-9919-44d3-ab01-ba9de823effd",
   "metadata": {},
   "outputs": [
    {
     "data": {
      "image/png": "[encoded data removed]",
      "text/plain": [
       "<Figure size 432x288 with 1 Axes>"
      ]
     },
     "metadata": {
      "needs_background": "light"
     },
     "output_type": "display_data"
    }
   ],
   "source": [
    "avgs=collect_samples(stimefinal400m,5,10000)\n",
    "plt.hist(avgs,bins=20, density=True)\n",
    "xs = np.linspace(44,45, 40)\n",
    "mean_xbar = np.mean(stimefinal400m)\n",
    "std_xbar = np.std(stimefinal400m, ddof=1)/np.sqrt(40) # 40 is the sample size \n",
    "ys = st.norm.pdf(xs,mean_xbar,std_xbar)\n",
    "plt.ylabel(\"Distribution\")\n",
    "plt.xlabel(\"Average Sprint Time(Semis 400m)\")\n",
    "plt.plot(xs,ys,'red')\n",
    "plt.show()"
   ]
  },
  {
   "cell_type": "markdown",
   "id": "6964a1c5-c845-4103-aa6e-0e48ed22b329",
   "metadata": {},
   "source": [
    "### Linear Regression Model :"
   ]
  },
  {
   "cell_type": "code",
   "execution_count": 288,
   "id": "17e06ad7-440b-49ae-82e1-aec9e5858a54",
   "metadata": {},
   "outputs": [
    {
     "data": {
      "image/png": "[encoded data removed]",
      "text/plain": [
       "<Figure size 432x288 with 1 Axes>"
      ]
     },
     "metadata": {
      "needs_background": "light"
     },
     "output_type": "display_data"
    }
   ],
   "source": [
    "plt.plot(rtimefinal400m,stimefinal400m,'bo')\n",
    "c1,c0=np.polyfit(rtimefinal400m,stimefinal400m,deg=1)\n",
    "plt.plot(rtimefinal400m,c0 + c1*rtimefinal400m,'red',lw=1)\n",
    "plt.xlabel(\"Reaction Time Averages(Finals 400m)\")\n",
    "plt.ylabel(\"Sprint Time Averages(Finals 400m)\");"
   ]
  },
  {
   "cell_type": "code",
   "execution_count": 289,
   "id": "37dd29a1-eda9-48e2-94d5-b5b717563062",
   "metadata": {},
   "outputs": [
    {
     "data": {
      "text/plain": [
       "0.046180380419140334"
      ]
     },
     "execution_count": 289,
     "metadata": {},
     "output_type": "execute_result"
    }
   ],
   "source": [
    "compute_R2(rtimefinal400m,stimefinal400m)"
   ]
  },
  {
   "cell_type": "markdown",
   "id": "28da83dd-de5d-4815-9f36-bd45a117b84d",
   "metadata": {},
   "source": [
    "Again, this is a very bad fit , the value of R^2 is close to 0.05, therefore we can conclude that there is no such linear relationship between sprint time and reaction time for 400m finals."
   ]
  },
  {
   "cell_type": "markdown",
   "id": "820ac9ef-ce6e-4411-9023-601a7dfe0e79",
   "metadata": {},
   "source": [
    "### Final Conclusion of Part 2:\n",
    "We see that the coefficient of co-relation, i.e., R^2 is very less in all the cases (heats, semis , finals of both 200m and 400m) and thus implying that a linear relationship between two of them is indeed a bad fit."
   ]
  },
  {
   "cell_type": "markdown",
   "id": "ac6ecbfb-8b98-41a3-875a-866440ac2f2e",
   "metadata": {},
   "source": [
    "Finally,the Thank you note..,So we would also like to express our gratitude to Prof.Amuthan A Ramabathiran for providing such an awesome hands-on project that gave us an insight into the world of Data analysis and Interpretation. The tasks such as visualising the true distribution, Computing the sampling distributionto calculate the estimates of Point parameters and Confidence intervals,Performing regression, and finally formulating and testing our very own hypothesis, using the concepts that we learnt in class and applying them in this project was a whole different feeling.\n",
    " Thank You Sir!! :)"
   ]
  },
  {
   "cell_type": "markdown",
   "id": "0cb2b83f-4f0d-46c4-8b85-8a857b03f160",
   "metadata": {},
   "source": [
    "## CONCLUSION"
   ]
  },
  {
   "cell_type": "markdown",
   "id": "229969a0-97d8-4e00-9b8b-8396472a3489",
   "metadata": {},
   "source": [
    "There are several things which could have been done better to make the results more comprehensive:<br>\n",
    "<ul>\n",
    "    <li>The data collected has only the Top 20 countries, which may not give a fair estimation, thus one way to make our results better is to include all participating countries</li>\n",
    "    <li>The data used of the Economy of the country, different countries have different percentage of budget allocated to sports, thus to get better estimates we could use just the sport budget and the per capita sports budget of the countries</li>\n",
    "    <li>For part2, we will be able to get better estimates when we use data from multiple Olympics, this will increase our dataset and give more conclusive results</li>\n",
    "</ul>"
   ]
  },
  {
   "cell_type": "markdown",
   "id": "69143fe3-4129-4699-9d42-b04df0539457",
   "metadata": {},
   "source": [
    "## Contributions"
   ]
  },
  {
   "cell_type": "markdown",
   "id": "09004349-fff5-47ac-8297-4079f0c2463e",
   "metadata": {},
   "source": [
    "Data collection and compilation- Lagnesh, Amit, Yash, Mayank <br>\n",
    "part 1: Mayank,Amit<br>\n",
    "part 2: Lagnesh, Yash<br>\n",
    "Explainations, Intro: Yash<br>\n",
    "Conclusion: Lagnesh,Amit<br>\n",
    "Coding: Yash, Mayank"
   ]
  },
  {
   "cell_type": "code",
   "execution_count": null,
   "id": "b7c35f1c-4f69-4899-955c-47293c238a7a",
   "metadata": {},
   "outputs": [],
   "source": []
  }
 ],
 "metadata": {
  "kernelspec": {
   "display_name": "Python 3 (ipykernel)",
   "language": "python",
   "name": "python3"
  },
  "language_info": {
   "codemirror_mode": {
    "name": "ipython",
    "version": 3
   },
   "file_extension": ".py",
   "mimetype": "text/x-python",
   "name": "python",
   "nbconvert_exporter": "python",
   "pygments_lexer": "ipython3",
   "version": "3.9.7"
  }
 },
 "nbformat": 4,
 "nbformat_minor": 5
}
